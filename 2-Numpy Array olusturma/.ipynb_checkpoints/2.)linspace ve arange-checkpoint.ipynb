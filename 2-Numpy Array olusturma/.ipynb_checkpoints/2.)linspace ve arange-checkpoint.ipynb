{
 "cells": [
  {
   "cell_type": "markdown",
   "metadata": {},
   "source": [
    "# DİZİ OLUŞTURMA"
   ]
  },
  {
   "cell_type": "markdown",
   "metadata": {},
   "source": [
    "Numpy öğreticimizin önceki bölümünde(Giriş), listelerden ve tuplelardan Numpy dizileri oluşturabileceğimizi görmüştük.\n",
    "Temel dizileri oluşturmak için şimdi daha fazla fonksiyonları tanıtmamız lazım.\n",
    "\n",
    "\n",
    "Belirli bir aralık içinde eşit aralıklı değerlere sahip diziler oluşturmak için Numpy tarafından sağlanan fonksiyonlar vardır.\n",
    "\n",
    "\n",
    "\n",
    "\n",
    "1-)arange  : belirli bir step kullanır \n",
    "\n",
    "\n",
    "\n",
    "2-)linspace: elemanların sayısına ihtiyaç duyar ve mesafeyi otomatik olarak oluşturur."
   ]
  },
  {
   "cell_type": "markdown",
   "metadata": {},
   "source": [
    "## Eşit Aralıklı Değerlerle Dizilerin Oluşturulması"
   ]
  },
  {
   "cell_type": "markdown",
   "metadata": {},
   "source": [
    "## arange"
   ]
  },
  {
   "cell_type": "markdown",
   "metadata": {},
   "source": [
    "arange'in sözdizimi ( syntax ):\n",
    "\n",
    "arange([start], [stop] , [step], [dtype=None])\n",
    "\n",
    "arange, belirli bir aralık içinde eşit aralıklı değerler döndürür\n",
    "\n",
    "----------------------------------------------------------------------------------------------------------------------------------------------------------------\n",
    "\n",
    "Parameters:\n",
    "              \n",
    "              start : number, optional\n",
    "\n",
    "                      Aralığın başlangıcı.Bu değer aralığa dahil. Varsayılan başlangıç değeri 0'dır.\n",
    "\n",
    "              stop : number\n",
    "\n",
    "                     Aralık sonu.Bu değer aralığa dahil değil.\n",
    "\n",
    "              step : number, optional\n",
    "\n",
    "                     Değerler arasındaki aralık.\n",
    "\n",
    "             dtype : dtype\n",
    "\n",
    "                    Çıktı dizisinin türü.Eğer dtype verilmezse, tür diğer giriş argümanlarından otomatik olarak çıkarılacaktır.\n",
    "Returns:\n",
    "\n",
    "             arange : ndarray\n",
    "\n",
    "                    Eşit aralıklı değerler dizisi.(ndarray)"
   ]
  },
  {
   "cell_type": "code",
   "execution_count": 2,
   "metadata": {},
   "outputs": [
    {
     "name": "stdout",
     "output_type": "stream",
     "text": [
      "[1 2 3 4 5 6 7 8 9]\n"
     ]
    }
   ],
   "source": [
    "import numpy as np\n",
    "a = np.arange(1, 10)\n",
    "print(a)"
   ]
  },
  {
   "cell_type": "markdown",
   "metadata": {},
   "source": [
    "Ek olarak :\n",
    "\n",
    "Bir şey fark etmişsinizdir, ' list(range(start,stop))  ' yapısına benzediğini.(Biz niye bu yapıyı seçmediğimizi girişte bahsetmiştik.)"
   ]
  },
  {
   "cell_type": "code",
   "execution_count": 2,
   "metadata": {},
   "outputs": [
    {
     "name": "stdout",
     "output_type": "stream",
     "text": [
      "range(1, 10)\n"
     ]
    }
   ],
   "source": [
    "a=range(1,10)\n",
    "print(a) # a bir iterator"
   ]
  },
  {
   "cell_type": "code",
   "execution_count": 3,
   "metadata": {},
   "outputs": [
    {
     "name": "stdout",
     "output_type": "stream",
     "text": [
      "[1, 2, 3, 4, 5, 6, 7, 8, 9]\n"
     ]
    }
   ],
   "source": [
    "a=list(a)\n",
    "print(a) # liste ye çevirdik"
   ]
  },
  {
   "cell_type": "markdown",
   "metadata": {},
   "source": [
    "Şimdi biraz örnek yapalım."
   ]
  },
  {
   "cell_type": "code",
   "execution_count": 7,
   "metadata": {},
   "outputs": [
    {
     "name": "stdout",
     "output_type": "stream",
     "text": [
      "[0 1 2 3 4]\n"
     ]
    }
   ],
   "source": [
    "x = np.arange(0,5)#varsayılan step=1 \n",
    "print(x)"
   ]
  },
  {
   "cell_type": "code",
   "execution_count": 9,
   "metadata": {},
   "outputs": [
    {
     "name": "stdout",
     "output_type": "stream",
     "text": [
      "[ 0  5 10 15 20 25 30 35 40 45]\n"
     ]
    }
   ],
   "source": [
    "x=np.arange(0,50, 5)\n",
    "print(x)"
   ]
  },
  {
   "cell_type": "code",
   "execution_count": 12,
   "metadata": {},
   "outputs": [
    {
     "name": "stdout",
     "output_type": "stream",
     "text": [
      "[0 1 2 3 4]\n"
     ]
    }
   ],
   "source": [
    "x=np.arange(0,5, dtype=int)\n",
    "print(x)"
   ]
  },
  {
   "cell_type": "code",
   "execution_count": 13,
   "metadata": {},
   "outputs": [
    {
     "name": "stdout",
     "output_type": "stream",
     "text": [
      "[ 0.  1.  2.  3.  4.]\n"
     ]
    }
   ],
   "source": [
    "x=np.arange(0,5, dtype=float)\n",
    "print(x)"
   ]
  },
  {
   "cell_type": "code",
   "execution_count": 14,
   "metadata": {},
   "outputs": [
    {
     "name": "stdout",
     "output_type": "stream",
     "text": [
      "[ 0.+0.j  1.+0.j  2.+0.j  3.+0.j  4.+0.j]\n"
     ]
    }
   ],
   "source": [
    "x=np.arange(0,5, dtype=complex)\n",
    "print(x)"
   ]
  },
  {
   "cell_type": "code",
   "execution_count": 15,
   "metadata": {},
   "outputs": [
    {
     "name": "stdout",
     "output_type": "stream",
     "text": [
      "['1970-01-01' '1970-01-02' '1970-01-03' '1970-01-04' '1970-01-05']\n"
     ]
    }
   ],
   "source": [
    "x= np.arange(0,5, dtype='datetime64[D]') # \n",
    "print(x)"
   ]
  },
  {
   "cell_type": "code",
   "execution_count": 19,
   "metadata": {},
   "outputs": [
    {
     "name": "stdout",
     "output_type": "stream",
     "text": [
      "[False  True  True]\n"
     ]
    }
   ],
   "source": [
    "x=np.arange(0,3).astype(bool) # 0 = False, diğerleri= True\n",
    "print(x)"
   ]
  },
  {
   "cell_type": "markdown",
   "metadata": {},
   "source": [
    "#### dtype (Dikkat !)"
   ]
  },
  {
   "cell_type": "code",
   "execution_count": 23,
   "metadata": {},
   "outputs": [
    {
     "name": "stdout",
     "output_type": "stream",
     "text": [
      "[ 0.5  0.9  1.3  1.7  2.1]\n"
     ]
    }
   ],
   "source": [
    "x = np.arange(0.5, 2.5, 0.4)\n",
    "print(x)"
   ]
  },
  {
   "cell_type": "code",
   "execution_count": 3,
   "metadata": {},
   "outputs": [
    {
     "name": "stdout",
     "output_type": "stream",
     "text": [
      "[0 0 0 0 0]\n"
     ]
    }
   ],
   "source": [
    "x = np.arange(0.5, 2.5, 0.4,int)\n",
    "print(x)"
   ]
  },
  {
   "cell_type": "markdown",
   "metadata": {},
   "source": [
    "Siz ilk başta dizide bulunan elmanları tamsayıya dönüştürür gibi düşünebilirsiniz ama öyle değil . \n",
    "dtype burada verdiğimiz parametreleri int'e çevirip işlem yapıyor.\n",
    "\n",
    "** np.arange(0.5, 2.5, 0.4,int) == np.arange(int(0.5),int(2.5),int(0.4)) **"
   ]
  },
  {
   "cell_type": "markdown",
   "metadata": {},
   "source": [
    "##### Eğer dizi elemanlarını int türünden olmasını istiyorsak .astype(int) metodu kullanıyoruz."
   ]
  },
  {
   "cell_type": "code",
   "execution_count": 26,
   "metadata": {},
   "outputs": [
    {
     "name": "stdout",
     "output_type": "stream",
     "text": [
      "[0 0 1 1 2]\n"
     ]
    }
   ],
   "source": [
    "x=np.arange(0.5, 2.5, 0.4).astype(int)\n",
    "print(x)"
   ]
  },
  {
   "cell_type": "code",
   "execution_count": 27,
   "metadata": {},
   "outputs": [
    {
     "name": "stdout",
     "output_type": "stream",
     "text": [
      "[ 0.5+0.j  0.9+0.j  1.3+0.j  1.7+0.j  2.1+0.j]\n"
     ]
    }
   ],
   "source": [
    "x = np.arange(0.5, 2.5, 0.4,dtype=complex)\n",
    "print(x)"
   ]
  },
  {
   "cell_type": "markdown",
   "metadata": {},
   "source": [
    "## linspace"
   ]
  },
  {
   "cell_type": "markdown",
   "metadata": {},
   "source": [
    "linspace'in sözdizimi ( syntax ):\n",
    "\n",
    "linspace(start, stop, num=50, endpoint=True, retstep=False)\n",
    "\n",
    "Belirli aralıklarla eşit aralıklı sayıları döndürün.\n",
    "[Start, stop] aralığından hesaplanan eşit aralıklı num numarlarını döndürür.\n",
    "Aralığın son noktası isteğe bağlı olarak hariç tutulabilir.\n",
    "\n",
    "----------------------------------------------------------------------------------------------------------------------------------------------------------------\n",
    "\n",
    "Parameters:\t\n",
    "                              \n",
    "                              start : scalar\n",
    "\n",
    "                                      Dizisi başlangıç değeri.\n",
    "\n",
    "                              stop : scalar\n",
    "\n",
    "                                     Bitiş noktası False olarak ayarlanmadıkça dizinin son değeri dahil. \n",
    "\n",
    "                              num : int, optional\n",
    "\n",
    "                                    Üretilecek örnek sayısı. Varsayılan 50'dir. Negatif olmamalıdır.\n",
    "\n",
    "                              endpoint : bool, optional\n",
    "\n",
    "                                    True ise, son örnek durur. Aksi takdirde, dahil değildir. Varsayılan değer True.\n",
    "\n",
    "                              retstep : bool, optional\n",
    "\n",
    "                                    True ise, step i verir\n",
    "                                    \n",
    "                              dtype : dtype, optional\n",
    "\n",
    "                                    Çıkış dizisinin türü. Eğer dtype verilmezse, veri tipini diğer giriş argümanlarından çıkar.\n",
    "\n",
    "\n",
    "\n",
    "Returns:\n",
    "                              \n",
    "                              samples : ndarray\n",
    "\n",
    "                                       eşit aralıklı num örnekleri verir.(ndarray)\n",
    "\n",
    "                             step : float, optional\n",
    "                              \n",
    "                                      Yalnızca retstep True ise eklenir.\n",
    "\n",
    "                                      Örnekler arasındaki boşluk boyutları.\n"
   ]
  },
  {
   "cell_type": "code",
   "execution_count": 34,
   "metadata": {},
   "outputs": [
    {
     "name": "stdout",
     "output_type": "stream",
     "text": [
      "[  1.           1.18367347   1.36734694   1.55102041   1.73469388\n",
      "   1.91836735   2.10204082   2.28571429   2.46938776   2.65306122\n",
      "   2.83673469   3.02040816   3.20408163   3.3877551    3.57142857\n",
      "   3.75510204   3.93877551   4.12244898   4.30612245   4.48979592\n",
      "   4.67346939   4.85714286   5.04081633   5.2244898    5.40816327\n",
      "   5.59183673   5.7755102    5.95918367   6.14285714   6.32653061\n",
      "   6.51020408   6.69387755   6.87755102   7.06122449   7.24489796\n",
      "   7.42857143   7.6122449    7.79591837   7.97959184   8.16326531\n",
      "   8.34693878   8.53061224   8.71428571   8.89795918   9.08163265\n",
      "   9.26530612   9.44897959   9.63265306   9.81632653  10.        ]\n"
     ]
    }
   ],
   "source": [
    "x =np.linspace(1, 10) # 1-10 arasında eşit aralıklı 50 değer üretti.\n",
    "print(x)"
   ]
  },
  {
   "cell_type": "code",
   "execution_count": 33,
   "metadata": {},
   "outputs": [
    {
     "name": "stdout",
     "output_type": "stream",
     "text": [
      "[  1.    2.5   4.    5.5   7.    8.5  10. ]\n"
     ]
    }
   ],
   "source": [
    "x =np.linspace(1, 10,7) # 1-10 arasında eşit aralıklı 7 değer üretti.\n",
    "print(x)"
   ]
  },
  {
   "cell_type": "code",
   "execution_count": 35,
   "metadata": {},
   "outputs": [
    {
     "name": "stdout",
     "output_type": "stream",
     "text": [
      "[ 1.          2.28571429  3.57142857  4.85714286  6.14285714  7.42857143\n",
      "  8.71428571]\n"
     ]
    }
   ],
   "source": [
    "x =np.linspace(1, 10, 7, endpoint=False) # 1-10 (10 dahil değil çünkü endpoint=False ) arasında eşit aralıklı 7 değer üretti.\n",
    "print(x)"
   ]
  },
  {
   "cell_type": "code",
   "execution_count": 44,
   "metadata": {},
   "outputs": [
    {
     "name": "stdout",
     "output_type": "stream",
     "text": [
      "(array([ 2.  ,  2.25,  2.5 ,  2.75,  3.  ]), 0.25)\n"
     ]
    }
   ],
   "source": [
    "x =np.linspace(2.0, 3.0, num=5, retstep=True) #çıktıya ek olarak step aldık(retstep=True) bir tuple içinde\n",
    "print(x)"
   ]
  },
  {
   "cell_type": "code",
   "execution_count": 42,
   "metadata": {},
   "outputs": [
    {
     "name": "stdout",
     "output_type": "stream",
     "text": [
      "Örnekler(Üretilenler) : [ 2.    2.25  2.5   2.75  3.  ]\n",
      "Boşluklar(step-aralık) : 0.25\n"
     ]
    }
   ],
   "source": [
    "samples, spacing=np.linspace(2.0, 3.0, num=5, retstep=True) \n",
    "print('Örnekler(Üretilenler) :',samples)\n",
    "print('Boşluklar(step-aralık) :',spacing)"
   ]
  }
 ],
 "metadata": {
  "kernelspec": {
   "display_name": "Python 3",
   "language": "python",
   "name": "python3"
  },
  "language_info": {
   "codemirror_mode": {
    "name": "ipython",
    "version": 3
   },
   "file_extension": ".py",
   "mimetype": "text/x-python",
   "name": "python",
   "nbconvert_exporter": "python",
   "pygments_lexer": "ipython3",
   "version": "3.6.5"
  }
 },
 "nbformat": 4,
 "nbformat_minor": 2
}
