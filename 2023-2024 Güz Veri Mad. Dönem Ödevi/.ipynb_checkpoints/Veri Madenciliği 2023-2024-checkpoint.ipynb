{
 "cells": [
  {
   "cell_type": "code",
   "execution_count": 328,
   "id": "835f4c31",
   "metadata": {},
   "outputs": [
    {
     "data": {
      "text/html": [
       "<img src=\"https://logowik.com/content/uploads/images/kahramanmaras-sutcu-imam-universitesi5139.jpg\" width=\"400\" height=\"400\"/>"
      ],
      "text/plain": [
       "<IPython.core.display.Image object>"
      ]
     },
     "execution_count": 328,
     "metadata": {},
     "output_type": "execute_result"
    }
   ],
   "source": [
    "from IPython.display import Image\n",
    "from IPython.core.display import HTML \n",
    "Image(url= \"https://logowik.com/content/uploads/images/kahramanmaras-sutcu-imam-universitesi5139.jpg\", width=400, height=400) "
   ]
  },
  {
   "cell_type": "markdown",
   "id": "c5fc4175",
   "metadata": {},
   "source": [
    "  \n",
    "  \n",
    "  # KSÜ BİLGİSAYAR MÜHENDİSLİĞİ\n",
    " # 2023-2024 GÜZ DÖNEMİ\n",
    "# VERİ MADENCİLİĞİ FİNAL PROJESİ\n",
    "**------------------------------------------------------------------------------------------------**\n",
    "\n",
    "## AŞAMALAR\n",
    "\n",
    "### 1- Problemin Seçilmesi ve Uygun Veri Setinin Temin Edilmesi\n",
    "**1.1-kaggle.com**\n",
    "\n",
    "### 2- Hazırlık \n",
    "**2.1-Veri Madenciliği uygulamasında kullanılacak olan modelin incelenmesi**\n",
    "\n",
    "**2.2-Veri ön işleme**\n",
    "\n",
    "**2.3-Veri görselleştirme**\n",
    "\n",
    "### 3- Analiz\n",
    "**3.1-Uzaklık ve Benzerlik ölçütlerinin hesaplanması**\n",
    "\n",
    "\n",
    "\n",
    "\n",
    "\n",
    "\n",
    "\n",
    "\n",
    "\n"
   ]
  },
  {
   "cell_type": "markdown",
   "id": "9b66a3a4",
   "metadata": {},
   "source": [
    "  \n",
    "  \n",
    "  \n",
    "-"
   ]
  },
  {
   "cell_type": "markdown",
   "id": "c9741e31",
   "metadata": {},
   "source": [
    "## 1- Problemin Seçilmesi ve Uygun Veri Setinin Temin Edilmesi"
   ]
  },
  {
   "cell_type": "markdown",
   "id": "4abd4b49",
   "metadata": {},
   "source": [
    "Bu projede insanların demografik özellikleri ile alışveriş davranışları arasındaki ilişkiyi ortaya koyan bir Veri Madenciliği uygulaması gerçekleştirilmiştir. Bu uygulama için Veri Madenciliği yöntemlerinden sınıflandırma yöntemi kullanılmıştır. Veri seti Kaggle.com adresinden public olarak yayınlanan 'Customer Transactions' olarak seçilmiştir.\n",
    "\n",
    "----\n",
    "\n",
    "**Aşağıdaki kütüphaneleri kullanacağız:**\n",
    "\n",
    "**Numpy:** Sayısal hesaplama kütüphanesi.\n",
    "\n",
    "**Pandas:** Veri işleme ve analiz kütüphanesi.\n",
    "\n",
    "**Matplotlib:** Veri görselleştirme kütüphanesi.\n",
    "\n",
    "**Seaborn:** İstatistiksel veri görselleştirme kütüphanesi.\n",
    "\n",
    "**Scipy:** Bilimsel hesaplama için kapsamlı sayısal algoritma ve araç kütüphanesi.\n",
    "\n",
    "**Datetime:** Tarih ve zaman işlemleri kütüphanesi."
   ]
  },
  {
   "cell_type": "code",
   "execution_count": 377,
   "id": "3e9d8627",
   "metadata": {},
   "outputs": [],
   "source": [
    "import numpy as np\n",
    "import pandas as pd\n",
    "import matplotlib.pyplot as plt\n",
    "import seaborn as sns\n",
    "from datetime import datetime"
   ]
  },
  {
   "cell_type": "code",
   "execution_count": 378,
   "id": "d26662c6",
   "metadata": {},
   "outputs": [],
   "source": [
    "df = pd.read_csv('Customer.csv')"
   ]
  },
  {
   "cell_type": "code",
   "execution_count": 379,
   "id": "2aa29394",
   "metadata": {
    "scrolled": true
   },
   "outputs": [
    {
     "data": {
      "text/html": [
       "<div>\n",
       "<style scoped>\n",
       "    .dataframe tbody tr th:only-of-type {\n",
       "        vertical-align: middle;\n",
       "    }\n",
       "\n",
       "    .dataframe tbody tr th {\n",
       "        vertical-align: top;\n",
       "    }\n",
       "\n",
       "    .dataframe thead th {\n",
       "        text-align: right;\n",
       "    }\n",
       "</style>\n",
       "<table border=\"1\" class=\"dataframe\">\n",
       "  <thead>\n",
       "    <tr style=\"text-align: right;\">\n",
       "      <th></th>\n",
       "      <th>Customer ID</th>\n",
       "      <th>Name</th>\n",
       "      <th>Surname</th>\n",
       "      <th>Gender</th>\n",
       "      <th>Birthdate</th>\n",
       "      <th>Transaction Amount</th>\n",
       "      <th>Date</th>\n",
       "      <th>Merchant Name</th>\n",
       "      <th>Category</th>\n",
       "    </tr>\n",
       "  </thead>\n",
       "  <tbody>\n",
       "    <tr>\n",
       "      <th>0</th>\n",
       "      <td>752858</td>\n",
       "      <td>Sean</td>\n",
       "      <td>Rodriguez</td>\n",
       "      <td>F</td>\n",
       "      <td>2002-10-20</td>\n",
       "      <td>35.47</td>\n",
       "      <td>2023-04-03</td>\n",
       "      <td>Smith-Russell</td>\n",
       "      <td>Cosmetic</td>\n",
       "    </tr>\n",
       "    <tr>\n",
       "      <th>1</th>\n",
       "      <td>26381</td>\n",
       "      <td>Michelle</td>\n",
       "      <td>Phelps</td>\n",
       "      <td>NaN</td>\n",
       "      <td>1985-10-24</td>\n",
       "      <td>2552.72</td>\n",
       "      <td>2023-07-17</td>\n",
       "      <td>Peck, Spence and Young</td>\n",
       "      <td>Travel</td>\n",
       "    </tr>\n",
       "    <tr>\n",
       "      <th>2</th>\n",
       "      <td>305449</td>\n",
       "      <td>Jacob</td>\n",
       "      <td>Williams</td>\n",
       "      <td>M</td>\n",
       "      <td>1981-10-25</td>\n",
       "      <td>115.97</td>\n",
       "      <td>2023-09-20</td>\n",
       "      <td>Steele Inc</td>\n",
       "      <td>Clothing</td>\n",
       "    </tr>\n",
       "    <tr>\n",
       "      <th>3</th>\n",
       "      <td>988259</td>\n",
       "      <td>Nathan</td>\n",
       "      <td>Snyder</td>\n",
       "      <td>M</td>\n",
       "      <td>1977-10-26</td>\n",
       "      <td>11.31</td>\n",
       "      <td>2023-01-11</td>\n",
       "      <td>Wilson, Wilson and Russell</td>\n",
       "      <td>Cosmetic</td>\n",
       "    </tr>\n",
       "    <tr>\n",
       "      <th>4</th>\n",
       "      <td>764762</td>\n",
       "      <td>Crystal</td>\n",
       "      <td>Knapp</td>\n",
       "      <td>F</td>\n",
       "      <td>1951-11-02</td>\n",
       "      <td>62.21</td>\n",
       "      <td>2023-06-13</td>\n",
       "      <td>Palmer-Hinton</td>\n",
       "      <td>Electronics</td>\n",
       "    </tr>\n",
       "    <tr>\n",
       "      <th>...</th>\n",
       "      <td>...</td>\n",
       "      <td>...</td>\n",
       "      <td>...</td>\n",
       "      <td>...</td>\n",
       "      <td>...</td>\n",
       "      <td>...</td>\n",
       "      <td>...</td>\n",
       "      <td>...</td>\n",
       "      <td>...</td>\n",
       "    </tr>\n",
       "    <tr>\n",
       "      <th>49995</th>\n",
       "      <td>891845</td>\n",
       "      <td>Christine</td>\n",
       "      <td>Leach</td>\n",
       "      <td>F</td>\n",
       "      <td>1997-10-21</td>\n",
       "      <td>108.74</td>\n",
       "      <td>2023-08-30</td>\n",
       "      <td>Alexander Ltd</td>\n",
       "      <td>Market</td>\n",
       "    </tr>\n",
       "    <tr>\n",
       "      <th>49996</th>\n",
       "      <td>800560</td>\n",
       "      <td>Anna</td>\n",
       "      <td>Allen</td>\n",
       "      <td>F</td>\n",
       "      <td>1999-10-21</td>\n",
       "      <td>133.66</td>\n",
       "      <td>2023-05-03</td>\n",
       "      <td>Knapp-Calhoun</td>\n",
       "      <td>Cosmetic</td>\n",
       "    </tr>\n",
       "    <tr>\n",
       "      <th>49997</th>\n",
       "      <td>133285</td>\n",
       "      <td>Nicole</td>\n",
       "      <td>Franklin</td>\n",
       "      <td>M</td>\n",
       "      <td>1979-10-26</td>\n",
       "      <td>464.29</td>\n",
       "      <td>2023-02-12</td>\n",
       "      <td>Cantrell, Haynes and Ballard</td>\n",
       "      <td>Market</td>\n",
       "    </tr>\n",
       "    <tr>\n",
       "      <th>49998</th>\n",
       "      <td>616122</td>\n",
       "      <td>Maria</td>\n",
       "      <td>Keller</td>\n",
       "      <td>M</td>\n",
       "      <td>1981-10-25</td>\n",
       "      <td>472.57</td>\n",
       "      <td>2023-03-25</td>\n",
       "      <td>Wilson, Jackson and Beard</td>\n",
       "      <td>Market</td>\n",
       "    </tr>\n",
       "    <tr>\n",
       "      <th>49999</th>\n",
       "      <td>832184</td>\n",
       "      <td>Billy</td>\n",
       "      <td>Walker</td>\n",
       "      <td>F</td>\n",
       "      <td>1958-10-31</td>\n",
       "      <td>270.67</td>\n",
       "      <td>2023-05-20</td>\n",
       "      <td>Combs LLC</td>\n",
       "      <td>Market</td>\n",
       "    </tr>\n",
       "  </tbody>\n",
       "</table>\n",
       "<p>50000 rows × 9 columns</p>\n",
       "</div>"
      ],
      "text/plain": [
       "       Customer ID       Name    Surname Gender   Birthdate  \\\n",
       "0           752858       Sean  Rodriguez      F  2002-10-20   \n",
       "1            26381   Michelle     Phelps    NaN  1985-10-24   \n",
       "2           305449      Jacob   Williams      M  1981-10-25   \n",
       "3           988259     Nathan     Snyder      M  1977-10-26   \n",
       "4           764762    Crystal      Knapp      F  1951-11-02   \n",
       "...            ...        ...        ...    ...         ...   \n",
       "49995       891845  Christine      Leach      F  1997-10-21   \n",
       "49996       800560       Anna      Allen      F  1999-10-21   \n",
       "49997       133285     Nicole   Franklin      M  1979-10-26   \n",
       "49998       616122      Maria     Keller      M  1981-10-25   \n",
       "49999       832184      Billy     Walker      F  1958-10-31   \n",
       "\n",
       "       Transaction Amount        Date                 Merchant Name  \\\n",
       "0                   35.47  2023-04-03                 Smith-Russell   \n",
       "1                 2552.72  2023-07-17        Peck, Spence and Young   \n",
       "2                  115.97  2023-09-20                    Steele Inc   \n",
       "3                   11.31  2023-01-11    Wilson, Wilson and Russell   \n",
       "4                   62.21  2023-06-13                 Palmer-Hinton   \n",
       "...                   ...         ...                           ...   \n",
       "49995              108.74  2023-08-30                 Alexander Ltd   \n",
       "49996              133.66  2023-05-03                 Knapp-Calhoun   \n",
       "49997              464.29  2023-02-12  Cantrell, Haynes and Ballard   \n",
       "49998              472.57  2023-03-25     Wilson, Jackson and Beard   \n",
       "49999              270.67  2023-05-20                     Combs LLC   \n",
       "\n",
       "          Category  \n",
       "0         Cosmetic  \n",
       "1           Travel  \n",
       "2         Clothing  \n",
       "3         Cosmetic  \n",
       "4      Electronics  \n",
       "...            ...  \n",
       "49995       Market  \n",
       "49996     Cosmetic  \n",
       "49997       Market  \n",
       "49998       Market  \n",
       "49999       Market  \n",
       "\n",
       "[50000 rows x 9 columns]"
      ]
     },
     "execution_count": 379,
     "metadata": {},
     "output_type": "execute_result"
    }
   ],
   "source": [
    "df"
   ]
  },
  {
   "cell_type": "markdown",
   "id": "a829ef33",
   "metadata": {},
   "source": [
    "-"
   ]
  },
  {
   "cell_type": "markdown",
   "id": "e92a67e3",
   "metadata": {},
   "source": [
    "## 2- HAZIRLIK \n",
    "### 2.1-Veri Madenciliği uygulamasında kullanılacak olan modelin incelenmesi"
   ]
  },
  {
   "cell_type": "markdown",
   "id": "78f3d282",
   "metadata": {},
   "source": [
    "Veri setimizi incelediğimizde; **50000** adet müşteriye ait **9** farklı özellik içerdiğini görmekteyiz. Bu veri setinde hangi müşterinin, 2023 yılının Ocak ve Ekim ayları arasındaki tarihlerde, ne kadar ve hangi firmadan alışveriş yaptığı bilgisine ulaşılabilir. Bu demografik özelliklerden yola çıkarak özellikle farklı yaş ve cinsiyete sahip insanların alışveriş davranışlarını ortaya koyacağız.\n",
    "\n",
    "Veri ön işleme aşamasında;\n",
    "**Tekrar eden, ayrık ve boş (NULL)** verilerin tespiti ile daha tutarlı ve genelgeçer sonuçlar üretmeye çalışacağız.\n"
   ]
  },
  {
   "cell_type": "markdown",
   "id": "8e5ddc62",
   "metadata": {},
   "source": [
    "---\n",
    "\n",
    "### 2.1-Veri Ön İşleme"
   ]
  },
  {
   "cell_type": "markdown",
   "id": "d46778c2",
   "metadata": {},
   "source": [
    "Özniteliklerin daha anlaşılabilir olması için **Türkçe** hale getirilmesi."
   ]
  },
  {
   "cell_type": "code",
   "execution_count": 380,
   "id": "2f8055e8",
   "metadata": {},
   "outputs": [],
   "source": [
    "df.rename(columns={'Customer ID' : 'Musteri_ID',\n",
    "                   'Name':'Isim',\n",
    "                   'Surname':'Soyisim',\n",
    "                   'Gender':'Cinsiyet',\n",
    "                   'Birthdate':'Dogum_Tarihi',\n",
    "                   'Transaction Amount':'Yapilan_Harcama',\n",
    "                   'Date':'Harcama_Tarihi',\n",
    "                   'Merchant Name':'Satici',\n",
    "                   'Category':'Kategori'}, inplace=True)\n"
   ]
  },
  {
   "cell_type": "code",
   "execution_count": 381,
   "id": "87db5dbc",
   "metadata": {},
   "outputs": [
    {
     "data": {
      "text/html": [
       "<div>\n",
       "<style scoped>\n",
       "    .dataframe tbody tr th:only-of-type {\n",
       "        vertical-align: middle;\n",
       "    }\n",
       "\n",
       "    .dataframe tbody tr th {\n",
       "        vertical-align: top;\n",
       "    }\n",
       "\n",
       "    .dataframe thead th {\n",
       "        text-align: right;\n",
       "    }\n",
       "</style>\n",
       "<table border=\"1\" class=\"dataframe\">\n",
       "  <thead>\n",
       "    <tr style=\"text-align: right;\">\n",
       "      <th></th>\n",
       "      <th>Musteri_ID</th>\n",
       "      <th>Isim</th>\n",
       "      <th>Soyisim</th>\n",
       "      <th>Cinsiyet</th>\n",
       "      <th>Dogum_Tarihi</th>\n",
       "      <th>Yapilan_Harcama</th>\n",
       "      <th>Harcama_Tarihi</th>\n",
       "      <th>Satici</th>\n",
       "      <th>Kategori</th>\n",
       "    </tr>\n",
       "  </thead>\n",
       "  <tbody>\n",
       "    <tr>\n",
       "      <th>0</th>\n",
       "      <td>752858</td>\n",
       "      <td>Sean</td>\n",
       "      <td>Rodriguez</td>\n",
       "      <td>F</td>\n",
       "      <td>2002-10-20</td>\n",
       "      <td>35.47</td>\n",
       "      <td>2023-04-03</td>\n",
       "      <td>Smith-Russell</td>\n",
       "      <td>Cosmetic</td>\n",
       "    </tr>\n",
       "    <tr>\n",
       "      <th>1</th>\n",
       "      <td>26381</td>\n",
       "      <td>Michelle</td>\n",
       "      <td>Phelps</td>\n",
       "      <td>NaN</td>\n",
       "      <td>1985-10-24</td>\n",
       "      <td>2552.72</td>\n",
       "      <td>2023-07-17</td>\n",
       "      <td>Peck, Spence and Young</td>\n",
       "      <td>Travel</td>\n",
       "    </tr>\n",
       "    <tr>\n",
       "      <th>2</th>\n",
       "      <td>305449</td>\n",
       "      <td>Jacob</td>\n",
       "      <td>Williams</td>\n",
       "      <td>M</td>\n",
       "      <td>1981-10-25</td>\n",
       "      <td>115.97</td>\n",
       "      <td>2023-09-20</td>\n",
       "      <td>Steele Inc</td>\n",
       "      <td>Clothing</td>\n",
       "    </tr>\n",
       "    <tr>\n",
       "      <th>3</th>\n",
       "      <td>988259</td>\n",
       "      <td>Nathan</td>\n",
       "      <td>Snyder</td>\n",
       "      <td>M</td>\n",
       "      <td>1977-10-26</td>\n",
       "      <td>11.31</td>\n",
       "      <td>2023-01-11</td>\n",
       "      <td>Wilson, Wilson and Russell</td>\n",
       "      <td>Cosmetic</td>\n",
       "    </tr>\n",
       "    <tr>\n",
       "      <th>4</th>\n",
       "      <td>764762</td>\n",
       "      <td>Crystal</td>\n",
       "      <td>Knapp</td>\n",
       "      <td>F</td>\n",
       "      <td>1951-11-02</td>\n",
       "      <td>62.21</td>\n",
       "      <td>2023-06-13</td>\n",
       "      <td>Palmer-Hinton</td>\n",
       "      <td>Electronics</td>\n",
       "    </tr>\n",
       "    <tr>\n",
       "      <th>...</th>\n",
       "      <td>...</td>\n",
       "      <td>...</td>\n",
       "      <td>...</td>\n",
       "      <td>...</td>\n",
       "      <td>...</td>\n",
       "      <td>...</td>\n",
       "      <td>...</td>\n",
       "      <td>...</td>\n",
       "      <td>...</td>\n",
       "    </tr>\n",
       "    <tr>\n",
       "      <th>49995</th>\n",
       "      <td>891845</td>\n",
       "      <td>Christine</td>\n",
       "      <td>Leach</td>\n",
       "      <td>F</td>\n",
       "      <td>1997-10-21</td>\n",
       "      <td>108.74</td>\n",
       "      <td>2023-08-30</td>\n",
       "      <td>Alexander Ltd</td>\n",
       "      <td>Market</td>\n",
       "    </tr>\n",
       "    <tr>\n",
       "      <th>49996</th>\n",
       "      <td>800560</td>\n",
       "      <td>Anna</td>\n",
       "      <td>Allen</td>\n",
       "      <td>F</td>\n",
       "      <td>1999-10-21</td>\n",
       "      <td>133.66</td>\n",
       "      <td>2023-05-03</td>\n",
       "      <td>Knapp-Calhoun</td>\n",
       "      <td>Cosmetic</td>\n",
       "    </tr>\n",
       "    <tr>\n",
       "      <th>49997</th>\n",
       "      <td>133285</td>\n",
       "      <td>Nicole</td>\n",
       "      <td>Franklin</td>\n",
       "      <td>M</td>\n",
       "      <td>1979-10-26</td>\n",
       "      <td>464.29</td>\n",
       "      <td>2023-02-12</td>\n",
       "      <td>Cantrell, Haynes and Ballard</td>\n",
       "      <td>Market</td>\n",
       "    </tr>\n",
       "    <tr>\n",
       "      <th>49998</th>\n",
       "      <td>616122</td>\n",
       "      <td>Maria</td>\n",
       "      <td>Keller</td>\n",
       "      <td>M</td>\n",
       "      <td>1981-10-25</td>\n",
       "      <td>472.57</td>\n",
       "      <td>2023-03-25</td>\n",
       "      <td>Wilson, Jackson and Beard</td>\n",
       "      <td>Market</td>\n",
       "    </tr>\n",
       "    <tr>\n",
       "      <th>49999</th>\n",
       "      <td>832184</td>\n",
       "      <td>Billy</td>\n",
       "      <td>Walker</td>\n",
       "      <td>F</td>\n",
       "      <td>1958-10-31</td>\n",
       "      <td>270.67</td>\n",
       "      <td>2023-05-20</td>\n",
       "      <td>Combs LLC</td>\n",
       "      <td>Market</td>\n",
       "    </tr>\n",
       "  </tbody>\n",
       "</table>\n",
       "<p>50000 rows × 9 columns</p>\n",
       "</div>"
      ],
      "text/plain": [
       "       Musteri_ID       Isim    Soyisim Cinsiyet Dogum_Tarihi  \\\n",
       "0          752858       Sean  Rodriguez        F   2002-10-20   \n",
       "1           26381   Michelle     Phelps      NaN   1985-10-24   \n",
       "2          305449      Jacob   Williams        M   1981-10-25   \n",
       "3          988259     Nathan     Snyder        M   1977-10-26   \n",
       "4          764762    Crystal      Knapp        F   1951-11-02   \n",
       "...           ...        ...        ...      ...          ...   \n",
       "49995      891845  Christine      Leach        F   1997-10-21   \n",
       "49996      800560       Anna      Allen        F   1999-10-21   \n",
       "49997      133285     Nicole   Franklin        M   1979-10-26   \n",
       "49998      616122      Maria     Keller        M   1981-10-25   \n",
       "49999      832184      Billy     Walker        F   1958-10-31   \n",
       "\n",
       "       Yapilan_Harcama Harcama_Tarihi                        Satici  \\\n",
       "0                35.47     2023-04-03                 Smith-Russell   \n",
       "1              2552.72     2023-07-17        Peck, Spence and Young   \n",
       "2               115.97     2023-09-20                    Steele Inc   \n",
       "3                11.31     2023-01-11    Wilson, Wilson and Russell   \n",
       "4                62.21     2023-06-13                 Palmer-Hinton   \n",
       "...                ...            ...                           ...   \n",
       "49995           108.74     2023-08-30                 Alexander Ltd   \n",
       "49996           133.66     2023-05-03                 Knapp-Calhoun   \n",
       "49997           464.29     2023-02-12  Cantrell, Haynes and Ballard   \n",
       "49998           472.57     2023-03-25     Wilson, Jackson and Beard   \n",
       "49999           270.67     2023-05-20                     Combs LLC   \n",
       "\n",
       "          Kategori  \n",
       "0         Cosmetic  \n",
       "1           Travel  \n",
       "2         Clothing  \n",
       "3         Cosmetic  \n",
       "4      Electronics  \n",
       "...            ...  \n",
       "49995       Market  \n",
       "49996     Cosmetic  \n",
       "49997       Market  \n",
       "49998       Market  \n",
       "49999       Market  \n",
       "\n",
       "[50000 rows x 9 columns]"
      ]
     },
     "execution_count": 381,
     "metadata": {},
     "output_type": "execute_result"
    }
   ],
   "source": [
    "df #Veri seti ön inceleme"
   ]
  },
  {
   "cell_type": "markdown",
   "id": "b1be7ded",
   "metadata": {},
   "source": [
    "Müşteri ID özelliğinin çıkartılması."
   ]
  },
  {
   "cell_type": "code",
   "execution_count": 382,
   "id": "58488a7c",
   "metadata": {},
   "outputs": [],
   "source": [
    "#df.drop('Müşteri ID', axis=1, inplace=True)"
   ]
  },
  {
   "cell_type": "markdown",
   "id": "05019eb8",
   "metadata": {},
   "source": [
    "NULL değere sahip veri miktarının belirlenmesi."
   ]
  },
  {
   "cell_type": "code",
   "execution_count": 383,
   "id": "45fffe25",
   "metadata": {},
   "outputs": [
    {
     "data": {
      "text/plain": [
       "Musteri_ID            0\n",
       "Isim                  0\n",
       "Soyisim               0\n",
       "Cinsiyet           5047\n",
       "Dogum_Tarihi          0\n",
       "Yapilan_Harcama       0\n",
       "Harcama_Tarihi        0\n",
       "Satici                0\n",
       "Kategori              0\n",
       "dtype: int64"
      ]
     },
     "execution_count": 383,
     "metadata": {},
     "output_type": "execute_result"
    }
   ],
   "source": [
    "df.isnull().sum()"
   ]
  },
  {
   "cell_type": "markdown",
   "id": "50eb1fd8",
   "metadata": {},
   "source": [
    "NULL verilerin silinmesi."
   ]
  },
  {
   "cell_type": "code",
   "execution_count": 384,
   "id": "f4332c53",
   "metadata": {},
   "outputs": [],
   "source": [
    "df = df.dropna()"
   ]
  },
  {
   "cell_type": "code",
   "execution_count": 385,
   "id": "db44e245",
   "metadata": {},
   "outputs": [
    {
     "data": {
      "text/plain": [
       "Musteri_ID         0\n",
       "Isim               0\n",
       "Soyisim            0\n",
       "Cinsiyet           0\n",
       "Dogum_Tarihi       0\n",
       "Yapilan_Harcama    0\n",
       "Harcama_Tarihi     0\n",
       "Satici             0\n",
       "Kategori           0\n",
       "dtype: int64"
      ]
     },
     "execution_count": 385,
     "metadata": {},
     "output_type": "execute_result"
    }
   ],
   "source": [
    "df.isnull().sum()"
   ]
  },
  {
   "cell_type": "markdown",
   "id": "39c7b23e",
   "metadata": {},
   "source": [
    "---\n",
    "\n",
    "Tekrar eden verilerin kontrolünün yapılması"
   ]
  },
  {
   "cell_type": "code",
   "execution_count": 386,
   "id": "8e91df4a",
   "metadata": {},
   "outputs": [
    {
     "data": {
      "text/html": [
       "<div>\n",
       "<style scoped>\n",
       "    .dataframe tbody tr th:only-of-type {\n",
       "        vertical-align: middle;\n",
       "    }\n",
       "\n",
       "    .dataframe tbody tr th {\n",
       "        vertical-align: top;\n",
       "    }\n",
       "\n",
       "    .dataframe thead th {\n",
       "        text-align: right;\n",
       "    }\n",
       "</style>\n",
       "<table border=\"1\" class=\"dataframe\">\n",
       "  <thead>\n",
       "    <tr style=\"text-align: right;\">\n",
       "      <th></th>\n",
       "      <th>HasDuplicates</th>\n",
       "    </tr>\n",
       "  </thead>\n",
       "  <tbody>\n",
       "    <tr>\n",
       "      <th>0</th>\n",
       "      <td>False</td>\n",
       "    </tr>\n",
       "  </tbody>\n",
       "</table>\n",
       "</div>"
      ],
      "text/plain": [
       "   HasDuplicates\n",
       "0          False"
      ]
     },
     "execution_count": 386,
     "metadata": {},
     "output_type": "execute_result"
    }
   ],
   "source": [
    "duplicates = pd.DataFrame({'HasDuplicates': [df.duplicated().any()]})\n",
    "duplicates"
   ]
  },
  {
   "cell_type": "markdown",
   "id": "a8b7d06c",
   "metadata": {},
   "source": [
    "Tekrar eden veri bulunmamaktadır."
   ]
  },
  {
   "cell_type": "markdown",
   "id": "117bf3e3",
   "metadata": {},
   "source": [
    "----"
   ]
  },
  {
   "cell_type": "code",
   "execution_count": 387,
   "id": "ba2f399b",
   "metadata": {},
   "outputs": [
    {
     "data": {
      "text/plain": [
       "(44953, 9)"
      ]
     },
     "execution_count": 387,
     "metadata": {},
     "output_type": "execute_result"
    }
   ],
   "source": [
    "df.shape"
   ]
  },
  {
   "cell_type": "markdown",
   "id": "aa725b4a",
   "metadata": {},
   "source": [
    "---\n",
    "---\n",
    "**Doğum Tarihi** özniteliğinden **Yaş** özniteliğinin elde edilmesi."
   ]
  },
  {
   "cell_type": "code",
   "execution_count": 390,
   "id": "f20a0fa3",
   "metadata": {},
   "outputs": [
    {
     "name": "stdout",
     "output_type": "stream",
     "text": [
      "0        21\n",
      "2        42\n",
      "3        46\n",
      "4        72\n",
      "5        22\n",
      "         ..\n",
      "49995    26\n",
      "49996    24\n",
      "49997    44\n",
      "49998    42\n",
      "49999    65\n",
      "Name: Yas, Length: 44953, dtype: int64\n"
     ]
    }
   ],
   "source": [
    "df.loc[:,('Dogum_Tarihi')] = pd.to_datetime(df.loc[:,('Dogum_Tarihi')]) # Tarih formatına dönüşüm\n",
    "df.loc[:,('Yas')] = df.loc[:,('Dogum_Tarihi')].apply(lambda x: (datetime.now().year - x.year)) # Hesaplama\n",
    "\n",
    "print(df['Yas'])"
   ]
  },
  {
   "cell_type": "code",
   "execution_count": 391,
   "id": "b58a4574",
   "metadata": {},
   "outputs": [
    {
     "data": {
      "text/html": [
       "<div>\n",
       "<style scoped>\n",
       "    .dataframe tbody tr th:only-of-type {\n",
       "        vertical-align: middle;\n",
       "    }\n",
       "\n",
       "    .dataframe tbody tr th {\n",
       "        vertical-align: top;\n",
       "    }\n",
       "\n",
       "    .dataframe thead th {\n",
       "        text-align: right;\n",
       "    }\n",
       "</style>\n",
       "<table border=\"1\" class=\"dataframe\">\n",
       "  <thead>\n",
       "    <tr style=\"text-align: right;\">\n",
       "      <th></th>\n",
       "      <th>Musteri_ID</th>\n",
       "      <th>Isim</th>\n",
       "      <th>Soyisim</th>\n",
       "      <th>Cinsiyet</th>\n",
       "      <th>Dogum_Tarihi</th>\n",
       "      <th>Yapilan_Harcama</th>\n",
       "      <th>Harcama_Tarihi</th>\n",
       "      <th>Satici</th>\n",
       "      <th>Kategori</th>\n",
       "      <th>Yas</th>\n",
       "    </tr>\n",
       "  </thead>\n",
       "  <tbody>\n",
       "    <tr>\n",
       "      <th>0</th>\n",
       "      <td>752858</td>\n",
       "      <td>Sean</td>\n",
       "      <td>Rodriguez</td>\n",
       "      <td>F</td>\n",
       "      <td>2002-10-20 00:00:00</td>\n",
       "      <td>35.47</td>\n",
       "      <td>2023-04-03</td>\n",
       "      <td>Smith-Russell</td>\n",
       "      <td>Cosmetic</td>\n",
       "      <td>21</td>\n",
       "    </tr>\n",
       "    <tr>\n",
       "      <th>2</th>\n",
       "      <td>305449</td>\n",
       "      <td>Jacob</td>\n",
       "      <td>Williams</td>\n",
       "      <td>M</td>\n",
       "      <td>1981-10-25 00:00:00</td>\n",
       "      <td>115.97</td>\n",
       "      <td>2023-09-20</td>\n",
       "      <td>Steele Inc</td>\n",
       "      <td>Clothing</td>\n",
       "      <td>42</td>\n",
       "    </tr>\n",
       "    <tr>\n",
       "      <th>3</th>\n",
       "      <td>988259</td>\n",
       "      <td>Nathan</td>\n",
       "      <td>Snyder</td>\n",
       "      <td>M</td>\n",
       "      <td>1977-10-26 00:00:00</td>\n",
       "      <td>11.31</td>\n",
       "      <td>2023-01-11</td>\n",
       "      <td>Wilson, Wilson and Russell</td>\n",
       "      <td>Cosmetic</td>\n",
       "      <td>46</td>\n",
       "    </tr>\n",
       "    <tr>\n",
       "      <th>4</th>\n",
       "      <td>764762</td>\n",
       "      <td>Crystal</td>\n",
       "      <td>Knapp</td>\n",
       "      <td>F</td>\n",
       "      <td>1951-11-02 00:00:00</td>\n",
       "      <td>62.21</td>\n",
       "      <td>2023-06-13</td>\n",
       "      <td>Palmer-Hinton</td>\n",
       "      <td>Electronics</td>\n",
       "      <td>72</td>\n",
       "    </tr>\n",
       "    <tr>\n",
       "      <th>5</th>\n",
       "      <td>576539</td>\n",
       "      <td>Monica</td>\n",
       "      <td>Bartlett</td>\n",
       "      <td>F</td>\n",
       "      <td>2001-10-20 00:00:00</td>\n",
       "      <td>99.14</td>\n",
       "      <td>2023-08-24</td>\n",
       "      <td>Tran, Torres and Joyce</td>\n",
       "      <td>Cosmetic</td>\n",
       "      <td>22</td>\n",
       "    </tr>\n",
       "  </tbody>\n",
       "</table>\n",
       "</div>"
      ],
      "text/plain": [
       "   Musteri_ID     Isim    Soyisim Cinsiyet         Dogum_Tarihi  \\\n",
       "0      752858     Sean  Rodriguez        F  2002-10-20 00:00:00   \n",
       "2      305449    Jacob   Williams        M  1981-10-25 00:00:00   \n",
       "3      988259   Nathan     Snyder        M  1977-10-26 00:00:00   \n",
       "4      764762  Crystal      Knapp        F  1951-11-02 00:00:00   \n",
       "5      576539   Monica   Bartlett        F  2001-10-20 00:00:00   \n",
       "\n",
       "   Yapilan_Harcama Harcama_Tarihi                      Satici     Kategori  \\\n",
       "0            35.47     2023-04-03               Smith-Russell     Cosmetic   \n",
       "2           115.97     2023-09-20                  Steele Inc     Clothing   \n",
       "3            11.31     2023-01-11  Wilson, Wilson and Russell     Cosmetic   \n",
       "4            62.21     2023-06-13               Palmer-Hinton  Electronics   \n",
       "5            99.14     2023-08-24      Tran, Torres and Joyce     Cosmetic   \n",
       "\n",
       "   Yas  \n",
       "0   21  \n",
       "2   42  \n",
       "3   46  \n",
       "4   72  \n",
       "5   22  "
      ]
     },
     "execution_count": 391,
     "metadata": {},
     "output_type": "execute_result"
    }
   ],
   "source": [
    "df.head()"
   ]
  },
  {
   "cell_type": "code",
   "execution_count": 392,
   "id": "f476e3d4",
   "metadata": {},
   "outputs": [
    {
     "name": "stdout",
     "output_type": "stream",
     "text": [
      "<class 'pandas.core.frame.DataFrame'>\n",
      "Index: 44953 entries, 0 to 49999\n",
      "Data columns (total 10 columns):\n",
      " #   Column           Non-Null Count  Dtype  \n",
      "---  ------           --------------  -----  \n",
      " 0   Musteri_ID       44953 non-null  int64  \n",
      " 1   Isim             44953 non-null  object \n",
      " 2   Soyisim          44953 non-null  object \n",
      " 3   Cinsiyet         44953 non-null  object \n",
      " 4   Dogum_Tarihi     44953 non-null  object \n",
      " 5   Yapilan_Harcama  44953 non-null  float64\n",
      " 6   Harcama_Tarihi   44953 non-null  object \n",
      " 7   Satici           44953 non-null  object \n",
      " 8   Kategori         44953 non-null  object \n",
      " 9   Yas              44953 non-null  int64  \n",
      "dtypes: float64(1), int64(2), object(7)\n",
      "memory usage: 3.8+ MB\n"
     ]
    }
   ],
   "source": [
    "df.info() #Kontrol"
   ]
  },
  {
   "cell_type": "markdown",
   "id": "dcf7926a",
   "metadata": {},
   "source": [
    "---\n",
    "Ay bazında işlem yoğunluklarının incelenmesi için **Harcama Tarihi** özniteliğinden **İşlem Tarihi** adlı ayları gösteren özniteliğinin elde edilmesi."
   ]
  },
  {
   "cell_type": "code",
   "execution_count": 394,
   "id": "707dfb10",
   "metadata": {},
   "outputs": [
    {
     "data": {
      "text/html": [
       "<div>\n",
       "<style scoped>\n",
       "    .dataframe tbody tr th:only-of-type {\n",
       "        vertical-align: middle;\n",
       "    }\n",
       "\n",
       "    .dataframe tbody tr th {\n",
       "        vertical-align: top;\n",
       "    }\n",
       "\n",
       "    .dataframe thead th {\n",
       "        text-align: right;\n",
       "    }\n",
       "</style>\n",
       "<table border=\"1\" class=\"dataframe\">\n",
       "  <thead>\n",
       "    <tr style=\"text-align: right;\">\n",
       "      <th></th>\n",
       "      <th>Musteri_ID</th>\n",
       "      <th>Isim</th>\n",
       "      <th>Soyisim</th>\n",
       "      <th>Cinsiyet</th>\n",
       "      <th>Dogum_Tarihi</th>\n",
       "      <th>Yapilan_Harcama</th>\n",
       "      <th>Harcama_Tarihi</th>\n",
       "      <th>Satici</th>\n",
       "      <th>Kategori</th>\n",
       "      <th>Yas</th>\n",
       "      <th>Ay</th>\n",
       "    </tr>\n",
       "  </thead>\n",
       "  <tbody>\n",
       "    <tr>\n",
       "      <th>0</th>\n",
       "      <td>752858</td>\n",
       "      <td>Sean</td>\n",
       "      <td>Rodriguez</td>\n",
       "      <td>F</td>\n",
       "      <td>2002-10-20 00:00:00</td>\n",
       "      <td>35.47</td>\n",
       "      <td>2023-04-03</td>\n",
       "      <td>Smith-Russell</td>\n",
       "      <td>Cosmetic</td>\n",
       "      <td>21</td>\n",
       "      <td>4</td>\n",
       "    </tr>\n",
       "    <tr>\n",
       "      <th>2</th>\n",
       "      <td>305449</td>\n",
       "      <td>Jacob</td>\n",
       "      <td>Williams</td>\n",
       "      <td>M</td>\n",
       "      <td>1981-10-25 00:00:00</td>\n",
       "      <td>115.97</td>\n",
       "      <td>2023-09-20</td>\n",
       "      <td>Steele Inc</td>\n",
       "      <td>Clothing</td>\n",
       "      <td>42</td>\n",
       "      <td>9</td>\n",
       "    </tr>\n",
       "    <tr>\n",
       "      <th>3</th>\n",
       "      <td>988259</td>\n",
       "      <td>Nathan</td>\n",
       "      <td>Snyder</td>\n",
       "      <td>M</td>\n",
       "      <td>1977-10-26 00:00:00</td>\n",
       "      <td>11.31</td>\n",
       "      <td>2023-01-11</td>\n",
       "      <td>Wilson, Wilson and Russell</td>\n",
       "      <td>Cosmetic</td>\n",
       "      <td>46</td>\n",
       "      <td>1</td>\n",
       "    </tr>\n",
       "    <tr>\n",
       "      <th>4</th>\n",
       "      <td>764762</td>\n",
       "      <td>Crystal</td>\n",
       "      <td>Knapp</td>\n",
       "      <td>F</td>\n",
       "      <td>1951-11-02 00:00:00</td>\n",
       "      <td>62.21</td>\n",
       "      <td>2023-06-13</td>\n",
       "      <td>Palmer-Hinton</td>\n",
       "      <td>Electronics</td>\n",
       "      <td>72</td>\n",
       "      <td>6</td>\n",
       "    </tr>\n",
       "    <tr>\n",
       "      <th>5</th>\n",
       "      <td>576539</td>\n",
       "      <td>Monica</td>\n",
       "      <td>Bartlett</td>\n",
       "      <td>F</td>\n",
       "      <td>2001-10-20 00:00:00</td>\n",
       "      <td>99.14</td>\n",
       "      <td>2023-08-24</td>\n",
       "      <td>Tran, Torres and Joyce</td>\n",
       "      <td>Cosmetic</td>\n",
       "      <td>22</td>\n",
       "      <td>8</td>\n",
       "    </tr>\n",
       "  </tbody>\n",
       "</table>\n",
       "</div>"
      ],
      "text/plain": [
       "   Musteri_ID     Isim    Soyisim Cinsiyet         Dogum_Tarihi  \\\n",
       "0      752858     Sean  Rodriguez        F  2002-10-20 00:00:00   \n",
       "2      305449    Jacob   Williams        M  1981-10-25 00:00:00   \n",
       "3      988259   Nathan     Snyder        M  1977-10-26 00:00:00   \n",
       "4      764762  Crystal      Knapp        F  1951-11-02 00:00:00   \n",
       "5      576539   Monica   Bartlett        F  2001-10-20 00:00:00   \n",
       "\n",
       "   Yapilan_Harcama Harcama_Tarihi                      Satici     Kategori  \\\n",
       "0            35.47     2023-04-03               Smith-Russell     Cosmetic   \n",
       "2           115.97     2023-09-20                  Steele Inc     Clothing   \n",
       "3            11.31     2023-01-11  Wilson, Wilson and Russell     Cosmetic   \n",
       "4            62.21     2023-06-13               Palmer-Hinton  Electronics   \n",
       "5            99.14     2023-08-24      Tran, Torres and Joyce     Cosmetic   \n",
       "\n",
       "   Yas Ay  \n",
       "0   21  4  \n",
       "2   42  9  \n",
       "3   46  1  \n",
       "4   72  6  \n",
       "5   22  8  "
      ]
     },
     "execution_count": 394,
     "metadata": {},
     "output_type": "execute_result"
    }
   ],
   "source": [
    "#df.loc[:, 'İşlem Tarihi'] = pd.to_datetime(df.loc[:, 'Harcama Tarihi']).dt.strftime('%B')\n",
    "\n",
    "#print(df.loc[:, ['Harcama Tarihi', 'İşlem Tarihi']])\n",
    "\n",
    "\n",
    "\n",
    "\n",
    "df.loc[:,'Ay']=df.loc[:,'Harcama_Tarihi'].str.slice(5,7)\n",
    "df.loc[:,'Ay']=df.loc[:,'Ay'].astype('int64')\n",
    "df.head()\n",
    "\n",
    "\n"
   ]
  },
  {
   "cell_type": "code",
   "execution_count": 395,
   "id": "a5a4e51b",
   "metadata": {},
   "outputs": [],
   "source": [
    "df.loc[:,'Cinsiyet'] = df.loc[:,'Cinsiyet'].replace({'F': 1, 'M': 0})"
   ]
  },
  {
   "cell_type": "code",
   "execution_count": 396,
   "id": "1c278ca8",
   "metadata": {},
   "outputs": [],
   "source": [
    "df.loc[:,'Cinsiyet'] = pd.to_numeric(df['Cinsiyet'], errors='coerce', downcast='integer')\n",
    "df.loc[:,'Ay'] = pd.to_numeric(df['Ay'], errors='coerce', downcast='integer')\n",
    "df.loc[:,'Yapilan_Harcama'] = df['Yapilan_Harcama'].astype(int)"
   ]
  },
  {
   "cell_type": "code",
   "execution_count": 453,
   "id": "d1bf7d0d",
   "metadata": {},
   "outputs": [],
   "source": [
    "# Yeni bir sütun eklemek için rastgele int değerler oluşturma\n",
    "df.loc[:,('Ziyaret')] = np.random.randint(2, 25, size=len(df))"
   ]
  },
  {
   "cell_type": "code",
   "execution_count": 454,
   "id": "0056b43d",
   "metadata": {},
   "outputs": [
    {
     "name": "stdout",
     "output_type": "stream",
     "text": [
      "<class 'pandas.core.frame.DataFrame'>\n",
      "Index: 44953 entries, 0 to 49999\n",
      "Data columns (total 13 columns):\n",
      " #   Column           Non-Null Count  Dtype  \n",
      "---  ------           --------------  -----  \n",
      " 0   Musteri_ID       44953 non-null  int64  \n",
      " 1   Isim             44953 non-null  object \n",
      " 2   Soyisim          44953 non-null  object \n",
      " 3   Cinsiyet         44953 non-null  object \n",
      " 4   Dogum_Tarihi     44953 non-null  object \n",
      " 5   Yapilan_Harcama  44953 non-null  float64\n",
      " 6   Harcama_Tarihi   44953 non-null  object \n",
      " 7   Satici           44953 non-null  object \n",
      " 8   Kategori         44953 non-null  object \n",
      " 9   Yas              44953 non-null  int64  \n",
      " 10  Ay               44953 non-null  object \n",
      " 11  Ziyaret          44953 non-null  int32  \n",
      " 12  Toplam_Harcama   44953 non-null  float64\n",
      "dtypes: float64(2), int32(1), int64(2), object(8)\n",
      "memory usage: 4.6+ MB\n"
     ]
    }
   ],
   "source": [
    "df.info()"
   ]
  },
  {
   "cell_type": "code",
   "execution_count": 455,
   "id": "2241cf26",
   "metadata": {},
   "outputs": [],
   "source": [
    "df.loc[:,'Ay'] = pd.to_numeric(df.loc[:,'Ay'], errors='coerce', downcast='integer')"
   ]
  },
  {
   "cell_type": "markdown",
   "id": "43db5790",
   "metadata": {},
   "source": [
    "---\n",
    "\n",
    "Sayısal özniteliklerin istatistiksel sonuçları incelenmesi."
   ]
  },
  {
   "cell_type": "code",
   "execution_count": 456,
   "id": "3f598af6",
   "metadata": {},
   "outputs": [
    {
     "data": {
      "text/html": [
       "<div>\n",
       "<style scoped>\n",
       "    .dataframe tbody tr th:only-of-type {\n",
       "        vertical-align: middle;\n",
       "    }\n",
       "\n",
       "    .dataframe tbody tr th {\n",
       "        vertical-align: top;\n",
       "    }\n",
       "\n",
       "    .dataframe thead th {\n",
       "        text-align: right;\n",
       "    }\n",
       "</style>\n",
       "<table border=\"1\" class=\"dataframe\">\n",
       "  <thead>\n",
       "    <tr style=\"text-align: right;\">\n",
       "      <th></th>\n",
       "      <th>Musteri_ID</th>\n",
       "      <th>Yapilan_Harcama</th>\n",
       "      <th>Yas</th>\n",
       "      <th>Ziyaret</th>\n",
       "      <th>Toplam_Harcama</th>\n",
       "    </tr>\n",
       "  </thead>\n",
       "  <tbody>\n",
       "    <tr>\n",
       "      <th>count</th>\n",
       "      <td>44953.000000</td>\n",
       "      <td>44953.000000</td>\n",
       "      <td>44953.000000</td>\n",
       "      <td>44953.000000</td>\n",
       "      <td>44953.000000</td>\n",
       "    </tr>\n",
       "    <tr>\n",
       "      <th>mean</th>\n",
       "      <td>500291.017307</td>\n",
       "      <td>442.499944</td>\n",
       "      <td>46.534736</td>\n",
       "      <td>12.998843</td>\n",
       "      <td>1554.204881</td>\n",
       "    </tr>\n",
       "    <tr>\n",
       "      <th>std</th>\n",
       "      <td>288276.249030</td>\n",
       "      <td>632.487842</td>\n",
       "      <td>16.822202</td>\n",
       "      <td>6.623715</td>\n",
       "      <td>2388.294770</td>\n",
       "    </tr>\n",
       "    <tr>\n",
       "      <th>min</th>\n",
       "      <td>29.000000</td>\n",
       "      <td>5.000000</td>\n",
       "      <td>18.000000</td>\n",
       "      <td>2.000000</td>\n",
       "      <td>10.000000</td>\n",
       "    </tr>\n",
       "    <tr>\n",
       "      <th>25%</th>\n",
       "      <td>251207.000000</td>\n",
       "      <td>79.000000</td>\n",
       "      <td>32.000000</td>\n",
       "      <td>7.000000</td>\n",
       "      <td>256.000000</td>\n",
       "    </tr>\n",
       "    <tr>\n",
       "      <th>50%</th>\n",
       "      <td>499534.000000</td>\n",
       "      <td>182.000000</td>\n",
       "      <td>47.000000</td>\n",
       "      <td>13.000000</td>\n",
       "      <td>600.000000</td>\n",
       "    </tr>\n",
       "    <tr>\n",
       "      <th>75%</th>\n",
       "      <td>749999.000000</td>\n",
       "      <td>471.000000</td>\n",
       "      <td>61.000000</td>\n",
       "      <td>19.000000</td>\n",
       "      <td>1646.000000</td>\n",
       "    </tr>\n",
       "    <tr>\n",
       "      <th>max</th>\n",
       "      <td>999997.000000</td>\n",
       "      <td>2999.000000</td>\n",
       "      <td>75.000000</td>\n",
       "      <td>24.000000</td>\n",
       "      <td>14995.000000</td>\n",
       "    </tr>\n",
       "  </tbody>\n",
       "</table>\n",
       "</div>"
      ],
      "text/plain": [
       "          Musteri_ID  Yapilan_Harcama           Yas       Ziyaret  \\\n",
       "count   44953.000000     44953.000000  44953.000000  44953.000000   \n",
       "mean   500291.017307       442.499944     46.534736     12.998843   \n",
       "std    288276.249030       632.487842     16.822202      6.623715   \n",
       "min        29.000000         5.000000     18.000000      2.000000   \n",
       "25%    251207.000000        79.000000     32.000000      7.000000   \n",
       "50%    499534.000000       182.000000     47.000000     13.000000   \n",
       "75%    749999.000000       471.000000     61.000000     19.000000   \n",
       "max    999997.000000      2999.000000     75.000000     24.000000   \n",
       "\n",
       "       Toplam_Harcama  \n",
       "count    44953.000000  \n",
       "mean      1554.204881  \n",
       "std       2388.294770  \n",
       "min         10.000000  \n",
       "25%        256.000000  \n",
       "50%        600.000000  \n",
       "75%       1646.000000  \n",
       "max      14995.000000  "
      ]
     },
     "execution_count": 456,
     "metadata": {},
     "output_type": "execute_result"
    }
   ],
   "source": [
    "df.describe()"
   ]
  },
  {
   "cell_type": "code",
   "execution_count": 457,
   "id": "432226ae",
   "metadata": {},
   "outputs": [
    {
     "data": {
      "text/plain": [
       "(44953, 13)"
      ]
     },
     "execution_count": 457,
     "metadata": {},
     "output_type": "execute_result"
    }
   ],
   "source": [
    "df.shape"
   ]
  },
  {
   "cell_type": "markdown",
   "id": "dd61e28d",
   "metadata": {},
   "source": [
    "### Veri ön işleme aşamasında yapılan işlemler\n",
    "---\n",
    "\n",
    "1- Veri Ön işleme aşamasında ilk olarak Kategoriler uygulama esnasında daha anlaşılabilir olması için **Türkçe** çevirileri yapıldı.\n",
    "\n",
    "2- Müşteri ID özelliğinin veri setinin çıkartıldı.\n",
    "\n",
    "3- Kontrolün ardından sadece **Cinsiyet** özniteliğinde yer alan **NULL** veriler silindi.\n",
    "\n",
    "4- Tekrar eden veriler kontrol edildi ve olmadığı gözlemlendi.\n",
    "\n",
    "5- Daha açıklayıcı ve kullanılabilir olması beklenerek; **Doğum Tarihi** özniteliği kullanılarak müşterilerin yaşları hesaplandı ve veri setine **Yaş** özniteliği olarak eklendi.\n",
    "\n",
    "6- Harcamanın aylara göre dağılımlarını incelemek için **Harcama Tarihi** özniteliğinden harcama yapılan ayları gösteren **İşlem Tarihi** adlı öznitelik elde edildi ve veri setine dahil edildi."
   ]
  },
  {
   "cell_type": "markdown",
   "id": "a37892d8",
   "metadata": {},
   "source": [
    "---\n",
    "\n",
    "### 2.1-Veri Görselleştirme"
   ]
  },
  {
   "cell_type": "markdown",
   "id": "f8d2c273",
   "metadata": {},
   "source": [
    "Müşterilerin **Kadın(F)** ve **Erkek(M)** sayılarını gösteren grafiğin çizilmesi.**(F=1, M=0)**"
   ]
  },
  {
   "cell_type": "code",
   "execution_count": 403,
   "id": "1e0b14d0",
   "metadata": {},
   "outputs": [
    {
     "data": {
      "text/html": [
       "<div>\n",
       "<style scoped>\n",
       "    .dataframe tbody tr th:only-of-type {\n",
       "        vertical-align: middle;\n",
       "    }\n",
       "\n",
       "    .dataframe tbody tr th {\n",
       "        vertical-align: top;\n",
       "    }\n",
       "\n",
       "    .dataframe thead th {\n",
       "        text-align: right;\n",
       "    }\n",
       "</style>\n",
       "<table border=\"1\" class=\"dataframe\">\n",
       "  <thead>\n",
       "    <tr style=\"text-align: right;\">\n",
       "      <th>Cinsiyet</th>\n",
       "      <th>0</th>\n",
       "      <th>1</th>\n",
       "    </tr>\n",
       "    <tr>\n",
       "      <th>Kategori</th>\n",
       "      <th></th>\n",
       "      <th></th>\n",
       "    </tr>\n",
       "  </thead>\n",
       "  <tbody>\n",
       "    <tr>\n",
       "      <th>Clothing</th>\n",
       "      <td>3738</td>\n",
       "      <td>3663</td>\n",
       "    </tr>\n",
       "    <tr>\n",
       "      <th>Cosmetic</th>\n",
       "      <td>3616</td>\n",
       "      <td>3824</td>\n",
       "    </tr>\n",
       "    <tr>\n",
       "      <th>Electronics</th>\n",
       "      <td>3740</td>\n",
       "      <td>3794</td>\n",
       "    </tr>\n",
       "    <tr>\n",
       "      <th>Market</th>\n",
       "      <td>3750</td>\n",
       "      <td>3738</td>\n",
       "    </tr>\n",
       "    <tr>\n",
       "      <th>Restaurant</th>\n",
       "      <td>3694</td>\n",
       "      <td>3833</td>\n",
       "    </tr>\n",
       "    <tr>\n",
       "      <th>Travel</th>\n",
       "      <td>3702</td>\n",
       "      <td>3861</td>\n",
       "    </tr>\n",
       "  </tbody>\n",
       "</table>\n",
       "</div>"
      ],
      "text/plain": [
       "Cinsiyet        0     1\n",
       "Kategori               \n",
       "Clothing     3738  3663\n",
       "Cosmetic     3616  3824\n",
       "Electronics  3740  3794\n",
       "Market       3750  3738\n",
       "Restaurant   3694  3833\n",
       "Travel       3702  3861"
      ]
     },
     "execution_count": 403,
     "metadata": {},
     "output_type": "execute_result"
    }
   ],
   "source": [
    "contingency=pd.crosstab(df['Kategori'],df['Cinsiyet'])\n",
    "contingency"
   ]
  },
  {
   "cell_type": "code",
   "execution_count": 404,
   "id": "5dc23bd7",
   "metadata": {},
   "outputs": [
    {
     "data": {
      "text/html": [
       "<div>\n",
       "<style scoped>\n",
       "    .dataframe tbody tr th:only-of-type {\n",
       "        vertical-align: middle;\n",
       "    }\n",
       "\n",
       "    .dataframe tbody tr th {\n",
       "        vertical-align: top;\n",
       "    }\n",
       "\n",
       "    .dataframe thead th {\n",
       "        text-align: right;\n",
       "    }\n",
       "</style>\n",
       "<table border=\"1\" class=\"dataframe\">\n",
       "  <thead>\n",
       "    <tr style=\"text-align: right;\">\n",
       "      <th>Ay</th>\n",
       "      <th>1</th>\n",
       "      <th>2</th>\n",
       "      <th>3</th>\n",
       "      <th>4</th>\n",
       "      <th>5</th>\n",
       "      <th>6</th>\n",
       "      <th>7</th>\n",
       "      <th>8</th>\n",
       "      <th>9</th>\n",
       "      <th>10</th>\n",
       "    </tr>\n",
       "    <tr>\n",
       "      <th>Kategori</th>\n",
       "      <th></th>\n",
       "      <th></th>\n",
       "      <th></th>\n",
       "      <th></th>\n",
       "      <th></th>\n",
       "      <th></th>\n",
       "      <th></th>\n",
       "      <th></th>\n",
       "      <th></th>\n",
       "      <th></th>\n",
       "    </tr>\n",
       "  </thead>\n",
       "  <tbody>\n",
       "    <tr>\n",
       "      <th>Clothing</th>\n",
       "      <td>844</td>\n",
       "      <td>694</td>\n",
       "      <td>809</td>\n",
       "      <td>761</td>\n",
       "      <td>830</td>\n",
       "      <td>755</td>\n",
       "      <td>801</td>\n",
       "      <td>801</td>\n",
       "      <td>746</td>\n",
       "      <td>360</td>\n",
       "    </tr>\n",
       "    <tr>\n",
       "      <th>Cosmetic</th>\n",
       "      <td>835</td>\n",
       "      <td>732</td>\n",
       "      <td>817</td>\n",
       "      <td>745</td>\n",
       "      <td>790</td>\n",
       "      <td>768</td>\n",
       "      <td>787</td>\n",
       "      <td>812</td>\n",
       "      <td>784</td>\n",
       "      <td>370</td>\n",
       "    </tr>\n",
       "    <tr>\n",
       "      <th>Electronics</th>\n",
       "      <td>803</td>\n",
       "      <td>755</td>\n",
       "      <td>824</td>\n",
       "      <td>835</td>\n",
       "      <td>823</td>\n",
       "      <td>822</td>\n",
       "      <td>771</td>\n",
       "      <td>803</td>\n",
       "      <td>754</td>\n",
       "      <td>344</td>\n",
       "    </tr>\n",
       "    <tr>\n",
       "      <th>Market</th>\n",
       "      <td>831</td>\n",
       "      <td>729</td>\n",
       "      <td>764</td>\n",
       "      <td>721</td>\n",
       "      <td>835</td>\n",
       "      <td>785</td>\n",
       "      <td>844</td>\n",
       "      <td>806</td>\n",
       "      <td>788</td>\n",
       "      <td>385</td>\n",
       "    </tr>\n",
       "    <tr>\n",
       "      <th>Restaurant</th>\n",
       "      <td>807</td>\n",
       "      <td>724</td>\n",
       "      <td>850</td>\n",
       "      <td>729</td>\n",
       "      <td>845</td>\n",
       "      <td>805</td>\n",
       "      <td>848</td>\n",
       "      <td>801</td>\n",
       "      <td>782</td>\n",
       "      <td>336</td>\n",
       "    </tr>\n",
       "    <tr>\n",
       "      <th>Travel</th>\n",
       "      <td>789</td>\n",
       "      <td>724</td>\n",
       "      <td>850</td>\n",
       "      <td>789</td>\n",
       "      <td>823</td>\n",
       "      <td>761</td>\n",
       "      <td>852</td>\n",
       "      <td>829</td>\n",
       "      <td>790</td>\n",
       "      <td>356</td>\n",
       "    </tr>\n",
       "  </tbody>\n",
       "</table>\n",
       "</div>"
      ],
      "text/plain": [
       "Ay            1    2    3    4    5    6    7    8    9    10\n",
       "Kategori                                                     \n",
       "Clothing     844  694  809  761  830  755  801  801  746  360\n",
       "Cosmetic     835  732  817  745  790  768  787  812  784  370\n",
       "Electronics  803  755  824  835  823  822  771  803  754  344\n",
       "Market       831  729  764  721  835  785  844  806  788  385\n",
       "Restaurant   807  724  850  729  845  805  848  801  782  336\n",
       "Travel       789  724  850  789  823  761  852  829  790  356"
      ]
     },
     "execution_count": 404,
     "metadata": {},
     "output_type": "execute_result"
    }
   ],
   "source": [
    "contingency=pd.crosstab(df['Kategori'],df['Ay'])\n",
    "contingency"
   ]
  },
  {
   "cell_type": "code",
   "execution_count": 405,
   "id": "9d5de9fd",
   "metadata": {},
   "outputs": [
    {
     "data": {
      "text/plain": [
       "<function matplotlib.pyplot.show(close=None, block=None)>"
      ]
     },
     "execution_count": 405,
     "metadata": {},
     "output_type": "execute_result"
    },
    {
     "data": {
      "image/png": "[encoded data removed]",
      "text/plain": [
       "<Figure size 640x480 with 1 Axes>"
      ]
     },
     "metadata": {},
     "output_type": "display_data"
    }
   ],
   "source": [
    "value_count=df['Cinsiyet'].value_counts()\n",
    "bars=plt.bar( value_count.index,value_count.values, color='green')\n",
    "\n",
    "for bar in bars:\n",
    "    yval = bar.get_height()\n",
    "    plt.text(bar.get_x() + bar.get_width() / 2, yval, round(yval, 2), ha='center', va='bottom')\n",
    "\n",
    "plt.xlabel('ERKEK(0)                   Cinsiyet                  KADIN(1)')\n",
    "plt.ylabel('Müşteri Sayısı')\n",
    "plt.show"
   ]
  },
  {
   "cell_type": "markdown",
   "id": "25b85e9c",
   "metadata": {},
   "source": [
    "---\n",
    "\n",
    "Kategorilere göre müşteri sayılarını gösteren tablonun çizilmesi."
   ]
  },
  {
   "cell_type": "code",
   "execution_count": 406,
   "id": "96ccedcd",
   "metadata": {
    "scrolled": false
   },
   "outputs": [
    {
     "data": {
      "image/png": "[encoded data removed]",
      "text/plain": [
       "<Figure size 900x500 with 1 Axes>"
      ]
     },
     "metadata": {},
     "output_type": "display_data"
    }
   ],
   "source": [
    "Kategori =df['Kategori'].value_counts()\n",
    "\n",
    "plt.figure(figsize=(9,5))\n",
    "bars = plt.bar(Kategori.index, Kategori.values, color='orange')\n",
    "\n",
    "for bar in bars:\n",
    "    yval = bar.get_height()\n",
    "    plt.text(bar.get_x() + bar.get_width() / 2, yval, round(yval, 2), ha='center', va='bottom')\n",
    "    \n",
    "plt.ylabel('Kategori Miktari')\n",
    "plt.xlabel('Kategori')\n",
    "plt.title('Kategorilere göre müşteri sayılarını gösteren grafik')\n",
    "plt.show()"
   ]
  },
  {
   "cell_type": "markdown",
   "id": "67b43599",
   "metadata": {},
   "source": [
    "---\n",
    "Kadın müşterilerin kategorilere göre dağılımlarını gösteren grafiğin çizilmesi."
   ]
  },
  {
   "cell_type": "code",
   "execution_count": 407,
   "id": "11f537e1",
   "metadata": {},
   "outputs": [
    {
     "data": {
      "text/plain": [
       "Text(0.5, 1.0, 'Kadın Müşterilerin Kategorileri')"
      ]
     },
     "execution_count": 407,
     "metadata": {},
     "output_type": "execute_result"
    },
    {
     "data": {
      "image/png": "[encoded data removed]",
      "text/plain": [
       "<Figure size 1000x500 with 1 Axes>"
      ]
     },
     "metadata": {},
     "output_type": "display_data"
    }
   ],
   "source": [
    "condition=df[df['Cinsiyet']==1]\n",
    "\n",
    "females_count = condition['Kategori'].value_counts()\n",
    "\n",
    "fig, axes = plt.subplots(nrows=1, ncols=1, figsize=(10, 5))\n",
    "\n",
    "axes.bar(females_count.index, females_count.values, color='r', alpha=0.7)\n",
    "axes.set_title('Kadın Müşterilerin Kategorileri')"
   ]
  },
  {
   "cell_type": "markdown",
   "id": "77b78ae5",
   "metadata": {},
   "source": [
    "---\n",
    "\n",
    "Erkek müşterilerin kategorilere göre dağılımlarını gösteren grafiğin çizilmesi."
   ]
  },
  {
   "cell_type": "code",
   "execution_count": 408,
   "id": "099631e9",
   "metadata": {},
   "outputs": [
    {
     "data": {
      "text/plain": [
       "Text(0.5, 1.0, 'Erkek Müşterilerin Kategorileri')"
      ]
     },
     "execution_count": 408,
     "metadata": {},
     "output_type": "execute_result"
    },
    {
     "data": {
      "image/png": "[encoded data removed]",
      "text/plain": [
       "<Figure size 1000x500 with 1 Axes>"
      ]
     },
     "metadata": {},
     "output_type": "display_data"
    }
   ],
   "source": [
    "condition_2=df[df['Cinsiyet']==0]\n",
    "\n",
    "males_count = condition_2['Kategori'].value_counts()\n",
    "\n",
    "fig, axes = plt.subplots(nrows=1, ncols=1, figsize=(10, 5))\n",
    "\n",
    "axes.bar(males_count.index, males_count.values, color='b', alpha=0.7)\n",
    "axes.set_title('Erkek Müşterilerin Kategorileri')"
   ]
  },
  {
   "cell_type": "code",
   "execution_count": 409,
   "id": "07a63e08",
   "metadata": {},
   "outputs": [
    {
     "data": {
      "image/png": "[encoded data removed]",
      "text/plain": [
       "<Figure size 600x600 with 1 Axes>"
      ]
     },
     "metadata": {},
     "output_type": "display_data"
    }
   ],
   "source": [
    "# Create scatter plot\n",
    "plt.figure(figsize=(6, 6))\n",
    "plt.scatter(females_count.index, females_count.values, color='r', label='Kadın', marker='o')\n",
    "plt.scatter(males_count.index, males_count.values, color='b', label='Erkek', marker='x')\n",
    "plt.title('Scatter Plot')\n",
    "plt.xlabel('Kategori')\n",
    "plt.ylabel('Miktar')\n",
    "plt.legend()\n",
    "\n",
    "# Show the plot\n",
    "plt.show()"
   ]
  },
  {
   "cell_type": "code",
   "execution_count": 410,
   "id": "859e8c66",
   "metadata": {},
   "outputs": [
    {
     "data": {
      "image/png": "[encoded data removed]",
      "text/plain": [
       "<Figure size 1200x500 with 2 Axes>"
      ]
     },
     "metadata": {},
     "output_type": "display_data"
    }
   ],
   "source": [
    "F=condition.groupby('Kategori')['Yapilan_Harcama'].mean()\n",
    "M=condition_2.groupby('Kategori')['Yapilan_Harcama'].mean()\n",
    "\n",
    "fig, axes = plt.subplots(nrows=1, ncols=2, figsize=(12, 5))\n",
    "\n",
    "axes[0].bar(F.index, F.values, color='b', alpha=0.9)\n",
    "axes[0].set_title('Kadın Harcama Dağılımları')\n",
    "\n",
    "axes[1].bar(M.index, M.values, color='r', alpha=0.9)\n",
    "axes[1].set_title('Erkek Harcama Dağılımları')\n",
    "\n",
    "plt.tight_layout()\n",
    "\n",
    "\n",
    "plt.show()"
   ]
  },
  {
   "cell_type": "code",
   "execution_count": 411,
   "id": "6bc286d3",
   "metadata": {},
   "outputs": [
    {
     "name": "stdout",
     "output_type": "stream",
     "text": [
      "Index(['Musteri_ID', 'Isim', 'Soyisim', 'Cinsiyet', 'Dogum_Tarihi',\n",
      "       'Yapilan_Harcama', 'Harcama_Tarihi', 'Satici', 'Kategori', 'Yas', 'Ay',\n",
      "       'Ziyaret'],\n",
      "      dtype='object')\n"
     ]
    }
   ],
   "source": [
    "print(df.columns)"
   ]
  },
  {
   "cell_type": "markdown",
   "id": "9f562f22",
   "metadata": {},
   "source": [
    "**Yapılan Harcama** özniteliğinin **Histogram** grafiğinde gösterimi."
   ]
  },
  {
   "cell_type": "code",
   "execution_count": 412,
   "id": "3a998e42",
   "metadata": {},
   "outputs": [
    {
     "data": {
      "text/plain": [
       "<Axes: xlabel='Yapilan Harcama', ylabel='Count'>"
      ]
     },
     "execution_count": 412,
     "metadata": {},
     "output_type": "execute_result"
    },
    {
     "data": {
      "image/png": "[encoded data removed]",
      "text/plain": [
       "<Figure size 640x480 with 1 Axes>"
      ]
     },
     "metadata": {},
     "output_type": "display_data"
    }
   ],
   "source": [
    "#data = df.rename(columns={\"Yaş\": \"Yas\", \"Yapılan Harcama\": \"Yapilan Harcama\"})\n",
    "sns.histplot(x = \"Yapilan Harcama\" , data = data, binwidth = 50, kde = True )"
   ]
  },
  {
   "cell_type": "code",
   "execution_count": 282,
   "id": "d43110c7",
   "metadata": {},
   "outputs": [
    {
     "data": {
      "text/plain": [
       "<Axes: xlabel='Yapilan Harcama', ylabel='Count'>"
      ]
     },
     "execution_count": 282,
     "metadata": {},
     "output_type": "execute_result"
    },
    {
     "data": {
      "image/png": "[encoded data removed]",
      "text/plain": [
       "<Figure size 640x480 with 1 Axes>"
      ]
     },
     "metadata": {},
     "output_type": "display_data"
    }
   ],
   "source": [
    "sns.histplot(x = \"Yapilan Harcama\" , data = data, binwidth = 50, hue = \"Kategori\" )"
   ]
  },
  {
   "cell_type": "markdown",
   "id": "ef2abfbd",
   "metadata": {},
   "source": [
    "--------------------------------\n",
    "## 3- ANALİZ \n",
    "### 3.1-Uzaklık ve Benzerlik ölçütlerinin hesaplanması"
   ]
  },
  {
   "cell_type": "markdown",
   "id": "860551ea",
   "metadata": {},
   "source": [
    "**Yaş** özniteliğinin **ilk** ve **son** **10** değerlerinin aralarındaki **Cosine Benzerliği**, **Euclidean ve Manhattan uzaklıklarının** hesaplanması."
   ]
  },
  {
   "cell_type": "code",
   "execution_count": 51,
   "id": "4f6b3040",
   "metadata": {},
   "outputs": [
    {
     "name": "stdout",
     "output_type": "stream",
     "text": [
      "İlk 10 Veri:\n",
      "   Yaş\n",
      "0   21\n",
      "2   42\n",
      "4   72\n",
      "7   55\n",
      "8   66\n",
      "       Yaş\n",
      "25625   37\n",
      "25627   60\n",
      "25630   41\n",
      "25631   20\n",
      "25632   20\n"
     ]
    }
   ],
   "source": [
    "# Veri setini DataFrame'e dönüştür\n",
    "df = pd.DataFrame(df, columns=['Yaş'])\n",
    "\n",
    "# İlk 10 veriyi işaretle\n",
    "df_first_5 = df.head(5)\n",
    "df_last_5 = df.tail(5)\n",
    "\n",
    "print(\"İlk 10 Veri:\")\n",
    "print(df_first_5)\n",
    "print(df_last_5)"
   ]
  },
  {
   "cell_type": "code",
   "execution_count": 52,
   "id": "b0eecb73",
   "metadata": {},
   "outputs": [
    {
     "name": "stdout",
     "output_type": "stream",
     "text": [
      "Cosine Similarity: [[0.81245787]]\n",
      "Euclidean Distance: [[58.51495535]]\n",
      "Manhattan Distance: [[102.]]\n"
     ]
    }
   ],
   "source": [
    "from sklearn.metrics.pairwise import cosine_similarity\n",
    "from sklearn.metrics.pairwise import euclidean_distances\n",
    "from sklearn.metrics.pairwise import manhattan_distances\n",
    "from scipy.spatial import distance\n",
    "\n",
    "first_5 = {'21', '42', '46', '72', '22'}\n",
    "last_5 = {'37', '60', '41', '20', '21'}\n",
    "\n",
    "# Küme içindeki sayısal değerleri listeye çevirme\n",
    "first_5_list = [float(value) for value in first_5]\n",
    "last_5_list = [float(value) for value in last_5]\n",
    "\n",
    "# Listeyi NumPy dizisine dönüştürme\n",
    "first_5_array = np.array(first_5_list).reshape(1, -1)\n",
    "last_5_array = np.array(last_5_list).reshape(1, -1)\n",
    "\n",
    "# Set tipine dönüştürme\n",
    "first_5_set = set(first_5_list)\n",
    "last_5_set = set(last_5_list)\n",
    "\n",
    "# Cosine similarity hesapla\n",
    "sim_cos = cosine_similarity(first_5_array, last_5_array)\n",
    "dist_euclidean = euclidean_distances(first_5_array, last_5_array)\n",
    "dist_manhattan = manhattan_distances(first_5_array, last_5_array)\n",
    "\n",
    "print(\"Cosine Similarity:\" , sim_cos)\n",
    "print(\"Euclidean Distance:\", dist_euclidean)\n",
    "print(\"Manhattan Distance:\", dist_manhattan)"
   ]
  },
  {
   "cell_type": "code",
   "execution_count": 317,
   "id": "b9966d62",
   "metadata": {},
   "outputs": [
    {
     "name": "stdout",
     "output_type": "stream",
     "text": [
      "<class 'pandas.core.frame.DataFrame'>\n",
      "Index: 4754 entries, 0 to 8000\n",
      "Data columns (total 12 columns):\n",
      " #   Column           Non-Null Count  Dtype  \n",
      "---  ------           --------------  -----  \n",
      " 0   Musteri_ID       4754 non-null   object \n",
      " 1   Isim             4754 non-null   object \n",
      " 2   Soyisim          4754 non-null   object \n",
      " 3   Cinsiyet         4754 non-null   object \n",
      " 4   Dogum_Tarihi     4754 non-null   object \n",
      " 5   Yapilan_Harcama  4754 non-null   float64\n",
      " 6   Harcama_Tarihi   4754 non-null   object \n",
      " 7   Satici           4754 non-null   object \n",
      " 8   Kategori         4754 non-null   object \n",
      " 9   Yas              4754 non-null   int64  \n",
      " 10  Ziyaret          4754 non-null   int32  \n",
      " 11  Toplam_Harcama   4754 non-null   float64\n",
      "dtypes: float64(2), int32(1), int64(1), object(8)\n",
      "memory usage: 464.3+ KB\n"
     ]
    }
   ],
   "source": [
    "df.info()"
   ]
  },
  {
   "cell_type": "markdown",
   "id": "d2dcc03a",
   "metadata": {},
   "source": [
    "---------\n",
    "## RFM Skorlarını hesaplama"
   ]
  },
  {
   "cell_type": "code",
   "execution_count": 481,
   "id": "7ae86e46",
   "metadata": {},
   "outputs": [
    {
     "name": "stdout",
     "output_type": "stream",
     "text": [
      "2023-11-11 00:00:00\n"
     ]
    }
   ],
   "source": [
    "import pandas as pd\n",
    "from sklearn.cluster import KMeans\n",
    "from sklearn.metrics import silhouette_score\n",
    "import datetime as dt\n",
    "\n",
    "#Toplam harcama hesabı\n",
    "df.loc[:,'Toplam_Harcama'] = df.loc[:,'Yapilan_Harcama']*df.loc[:,'Ziyaret']\n",
    "\n",
    "#Harcama tarihi veri tipi değiştirme işlemi\n",
    "df.loc[:, 'Harcama_Tarihi'] = pd.to_datetime(df.loc[:, 'Harcama_Tarihi'])\n",
    "\n",
    "today =dt.datetime(2023,11,11)\n",
    "print(today)\n",
    "\n",
    "#sıfır kontrolü\n",
    "df = df[df['Toplam_Harcama'] > 0]\n"
   ]
  },
  {
   "cell_type": "code",
   "execution_count": 482,
   "id": "b278d8b4",
   "metadata": {},
   "outputs": [
    {
     "data": {
      "text/html": [
       "<div>\n",
       "<style scoped>\n",
       "    .dataframe tbody tr th:only-of-type {\n",
       "        vertical-align: middle;\n",
       "    }\n",
       "\n",
       "    .dataframe tbody tr th {\n",
       "        vertical-align: top;\n",
       "    }\n",
       "\n",
       "    .dataframe thead th {\n",
       "        text-align: right;\n",
       "    }\n",
       "</style>\n",
       "<table border=\"1\" class=\"dataframe\">\n",
       "  <thead>\n",
       "    <tr style=\"text-align: right;\">\n",
       "      <th></th>\n",
       "      <th>Musteri_ID</th>\n",
       "      <th>Isim</th>\n",
       "      <th>Soyisim</th>\n",
       "      <th>Cinsiyet</th>\n",
       "      <th>Dogum_Tarihi</th>\n",
       "      <th>Yapilan_Harcama</th>\n",
       "      <th>Harcama_Tarihi</th>\n",
       "      <th>Satici</th>\n",
       "      <th>Kategori</th>\n",
       "      <th>Yas</th>\n",
       "      <th>Ay</th>\n",
       "      <th>Ziyaret</th>\n",
       "      <th>Toplam_Harcama</th>\n",
       "    </tr>\n",
       "  </thead>\n",
       "  <tbody>\n",
       "    <tr>\n",
       "      <th>0</th>\n",
       "      <td>752858</td>\n",
       "      <td>Sean</td>\n",
       "      <td>Rodriguez</td>\n",
       "      <td>1</td>\n",
       "      <td>2002-10-20 00:00:00</td>\n",
       "      <td>35.0</td>\n",
       "      <td>2023-04-03 00:00:00</td>\n",
       "      <td>Smith-Russell</td>\n",
       "      <td>Cosmetic</td>\n",
       "      <td>21</td>\n",
       "      <td>4</td>\n",
       "      <td>22</td>\n",
       "      <td>770.0</td>\n",
       "    </tr>\n",
       "    <tr>\n",
       "      <th>2</th>\n",
       "      <td>305449</td>\n",
       "      <td>Jacob</td>\n",
       "      <td>Williams</td>\n",
       "      <td>0</td>\n",
       "      <td>1981-10-25 00:00:00</td>\n",
       "      <td>115.0</td>\n",
       "      <td>2023-09-20 00:00:00</td>\n",
       "      <td>Steele Inc</td>\n",
       "      <td>Clothing</td>\n",
       "      <td>42</td>\n",
       "      <td>9</td>\n",
       "      <td>17</td>\n",
       "      <td>1955.0</td>\n",
       "    </tr>\n",
       "    <tr>\n",
       "      <th>3</th>\n",
       "      <td>988259</td>\n",
       "      <td>Nathan</td>\n",
       "      <td>Snyder</td>\n",
       "      <td>0</td>\n",
       "      <td>1977-10-26 00:00:00</td>\n",
       "      <td>11.0</td>\n",
       "      <td>2023-01-11 00:00:00</td>\n",
       "      <td>Wilson, Wilson and Russell</td>\n",
       "      <td>Cosmetic</td>\n",
       "      <td>46</td>\n",
       "      <td>1</td>\n",
       "      <td>7</td>\n",
       "      <td>77.0</td>\n",
       "    </tr>\n",
       "    <tr>\n",
       "      <th>4</th>\n",
       "      <td>764762</td>\n",
       "      <td>Crystal</td>\n",
       "      <td>Knapp</td>\n",
       "      <td>1</td>\n",
       "      <td>1951-11-02 00:00:00</td>\n",
       "      <td>62.0</td>\n",
       "      <td>2023-06-13 00:00:00</td>\n",
       "      <td>Palmer-Hinton</td>\n",
       "      <td>Electronics</td>\n",
       "      <td>72</td>\n",
       "      <td>6</td>\n",
       "      <td>3</td>\n",
       "      <td>186.0</td>\n",
       "    </tr>\n",
       "    <tr>\n",
       "      <th>5</th>\n",
       "      <td>576539</td>\n",
       "      <td>Monica</td>\n",
       "      <td>Bartlett</td>\n",
       "      <td>1</td>\n",
       "      <td>2001-10-20 00:00:00</td>\n",
       "      <td>99.0</td>\n",
       "      <td>2023-08-24 00:00:00</td>\n",
       "      <td>Tran, Torres and Joyce</td>\n",
       "      <td>Cosmetic</td>\n",
       "      <td>22</td>\n",
       "      <td>8</td>\n",
       "      <td>10</td>\n",
       "      <td>990.0</td>\n",
       "    </tr>\n",
       "  </tbody>\n",
       "</table>\n",
       "</div>"
      ],
      "text/plain": [
       "   Musteri_ID     Isim    Soyisim Cinsiyet         Dogum_Tarihi  \\\n",
       "0      752858     Sean  Rodriguez        1  2002-10-20 00:00:00   \n",
       "2      305449    Jacob   Williams        0  1981-10-25 00:00:00   \n",
       "3      988259   Nathan     Snyder        0  1977-10-26 00:00:00   \n",
       "4      764762  Crystal      Knapp        1  1951-11-02 00:00:00   \n",
       "5      576539   Monica   Bartlett        1  2001-10-20 00:00:00   \n",
       "\n",
       "   Yapilan_Harcama       Harcama_Tarihi                      Satici  \\\n",
       "0             35.0  2023-04-03 00:00:00               Smith-Russell   \n",
       "2            115.0  2023-09-20 00:00:00                  Steele Inc   \n",
       "3             11.0  2023-01-11 00:00:00  Wilson, Wilson and Russell   \n",
       "4             62.0  2023-06-13 00:00:00               Palmer-Hinton   \n",
       "5             99.0  2023-08-24 00:00:00      Tran, Torres and Joyce   \n",
       "\n",
       "      Kategori  Yas Ay  Ziyaret  Toplam_Harcama  \n",
       "0     Cosmetic   21  4       22           770.0  \n",
       "2     Clothing   42  9       17          1955.0  \n",
       "3     Cosmetic   46  1        7            77.0  \n",
       "4  Electronics   72  6        3           186.0  \n",
       "5     Cosmetic   22  8       10           990.0  "
      ]
     },
     "execution_count": 482,
     "metadata": {},
     "output_type": "execute_result"
    }
   ],
   "source": [
    "df.head()"
   ]
  },
  {
   "cell_type": "code",
   "execution_count": 495,
   "id": "087b32ca",
   "metadata": {},
   "outputs": [],
   "source": [
    "# Recency ve Monetary degerlerinin bulunması.\n",
    "data_x = df.groupby('Musteri_ID').agg({'Toplam_Harcama': lambda x: x.sum(),\n",
    "                                       'Harcama_Tarihi': lambda x: (today - x.max()).days})\n",
    "\n",
    "# Data Müşteri ID bazında olduğu için \n",
    "data_y = df['Musteri_ID']\n",
    "\n",
    "# Toplam_Harcama sütununun kaç kez geçtiğini sayma işlemi\n",
    "data_z = data_y.value_counts().rename('Toplam_Harcama_Count').reset_index()\n",
    "\n",
    "# RFM tablosu\n",
    "rfm_table = pd.merge(data_x, data_z, on='Musteri_ID')\n",
    "\n",
    "# Sütun isimlerini belirliyoruz.\n",
    "rfm_table.rename(columns={'Harcama_Tarihi': 'Recency',\n",
    "                          'Toplam_Harcama_Count': 'Frequency',\n",
    "                          'Toplam_Harcama': 'Monetary'}, inplace=True)\n",
    "\n",
    "# Frequency sütunu\n",
    "rfm_table['Frequency'] = rfm_table['Frequency'] * np.random.randint(1, 21, len(rfm_table))"
   ]
  },
  {
   "cell_type": "code",
   "execution_count": 496,
   "id": "b5d63927",
   "metadata": {},
   "outputs": [
    {
     "data": {
      "text/html": [
       "<div>\n",
       "<style scoped>\n",
       "    .dataframe tbody tr th:only-of-type {\n",
       "        vertical-align: middle;\n",
       "    }\n",
       "\n",
       "    .dataframe tbody tr th {\n",
       "        vertical-align: top;\n",
       "    }\n",
       "\n",
       "    .dataframe thead th {\n",
       "        text-align: right;\n",
       "    }\n",
       "</style>\n",
       "<table border=\"1\" class=\"dataframe\">\n",
       "  <thead>\n",
       "    <tr style=\"text-align: right;\">\n",
       "      <th></th>\n",
       "      <th>Musteri_ID</th>\n",
       "      <th>Monetary</th>\n",
       "      <th>Recency</th>\n",
       "      <th>Frequency</th>\n",
       "    </tr>\n",
       "  </thead>\n",
       "  <tbody>\n",
       "    <tr>\n",
       "      <th>0</th>\n",
       "      <td>29</td>\n",
       "      <td>351.0</td>\n",
       "      <td>52</td>\n",
       "      <td>10</td>\n",
       "    </tr>\n",
       "    <tr>\n",
       "      <th>1</th>\n",
       "      <td>54</td>\n",
       "      <td>332.0</td>\n",
       "      <td>109</td>\n",
       "      <td>15</td>\n",
       "    </tr>\n",
       "    <tr>\n",
       "      <th>2</th>\n",
       "      <td>90</td>\n",
       "      <td>396.0</td>\n",
       "      <td>54</td>\n",
       "      <td>20</td>\n",
       "    </tr>\n",
       "    <tr>\n",
       "      <th>3</th>\n",
       "      <td>105</td>\n",
       "      <td>1748.0</td>\n",
       "      <td>306</td>\n",
       "      <td>13</td>\n",
       "    </tr>\n",
       "    <tr>\n",
       "      <th>4</th>\n",
       "      <td>110</td>\n",
       "      <td>924.0</td>\n",
       "      <td>59</td>\n",
       "      <td>8</td>\n",
       "    </tr>\n",
       "  </tbody>\n",
       "</table>\n",
       "</div>"
      ],
      "text/plain": [
       "   Musteri_ID  Monetary  Recency  Frequency\n",
       "0          29     351.0       52         10\n",
       "1          54     332.0      109         15\n",
       "2          90     396.0       54         20\n",
       "3         105    1748.0      306         13\n",
       "4         110     924.0       59          8"
      ]
     },
     "execution_count": 496,
     "metadata": {},
     "output_type": "execute_result"
    }
   ],
   "source": [
    "rfm_table.head()"
   ]
  },
  {
   "cell_type": "code",
   "execution_count": 501,
   "id": "15c09888",
   "metadata": {},
   "outputs": [
    {
     "data": {
      "text/plain": [
       "(44953, 4)"
      ]
     },
     "execution_count": 501,
     "metadata": {},
     "output_type": "execute_result"
    }
   ],
   "source": [
    "rfm_table.shape"
   ]
  },
  {
   "cell_type": "markdown",
   "id": "567abb38",
   "metadata": {},
   "source": [
    "------\n",
    "# K-Means Segmentasyonu"
   ]
  },
  {
   "cell_type": "code",
   "execution_count": 507,
   "id": "41880a5b",
   "metadata": {},
   "outputs": [
    {
     "data": {
      "image/png": "[encoded data removed]",
      "text/plain": [
       "<Figure size 1500x500 with 3 Axes>"
      ]
     },
     "metadata": {},
     "output_type": "display_data"
    }
   ],
   "source": [
    "import matplotlib.pyplot as plt\n",
    "import seaborn as sns\n",
    "\n",
    "# Recency histogramı\n",
    "plt.figure(figsize=(15, 5))\n",
    "plt.subplot(1, 3, 1)\n",
    "sns.histplot(rfm_table['Recency'], bins=20, kde=True, color='skyblue')\n",
    "plt.title('Recency Histogram')\n",
    "\n",
    "# Frequency histogramı\n",
    "plt.subplot(1, 3, 2)\n",
    "sns.histplot(rfm_table['Frequency'], bins=20, kde=True, color='salmon')\n",
    "plt.title('Frequency Histogram')\n",
    "\n",
    "# Monetary histogramı\n",
    "plt.subplot(1, 3, 3)\n",
    "sns.histplot(rfm_table['Monetary'], bins=20, kde=True, color='lightgreen')\n",
    "plt.title('Monetary Histogram')\n",
    "\n",
    "plt.show()\n"
   ]
  },
  {
   "cell_type": "code",
   "execution_count": 512,
   "id": "aef497e9",
   "metadata": {},
   "outputs": [],
   "source": [
    "clus = rfm_table[['Monetary', 'Recency', 'Frequency']]"
   ]
  },
  {
   "cell_type": "code",
   "execution_count": 518,
   "id": "06af07a2",
   "metadata": {},
   "outputs": [
    {
     "data": {
      "text/html": [
       "<div>\n",
       "<style scoped>\n",
       "    .dataframe tbody tr th:only-of-type {\n",
       "        vertical-align: middle;\n",
       "    }\n",
       "\n",
       "    .dataframe tbody tr th {\n",
       "        vertical-align: top;\n",
       "    }\n",
       "\n",
       "    .dataframe thead th {\n",
       "        text-align: right;\n",
       "    }\n",
       "</style>\n",
       "<table border=\"1\" class=\"dataframe\">\n",
       "  <thead>\n",
       "    <tr style=\"text-align: right;\">\n",
       "      <th></th>\n",
       "      <th>Monetary</th>\n",
       "      <th>Recency</th>\n",
       "      <th>Frequency</th>\n",
       "    </tr>\n",
       "  </thead>\n",
       "  <tbody>\n",
       "    <tr>\n",
       "      <th>0</th>\n",
       "      <td>351.0</td>\n",
       "      <td>52</td>\n",
       "      <td>10</td>\n",
       "    </tr>\n",
       "    <tr>\n",
       "      <th>1</th>\n",
       "      <td>332.0</td>\n",
       "      <td>109</td>\n",
       "      <td>15</td>\n",
       "    </tr>\n",
       "    <tr>\n",
       "      <th>2</th>\n",
       "      <td>396.0</td>\n",
       "      <td>54</td>\n",
       "      <td>20</td>\n",
       "    </tr>\n",
       "    <tr>\n",
       "      <th>3</th>\n",
       "      <td>1748.0</td>\n",
       "      <td>306</td>\n",
       "      <td>13</td>\n",
       "    </tr>\n",
       "    <tr>\n",
       "      <th>4</th>\n",
       "      <td>924.0</td>\n",
       "      <td>59</td>\n",
       "      <td>8</td>\n",
       "    </tr>\n",
       "  </tbody>\n",
       "</table>\n",
       "</div>"
      ],
      "text/plain": [
       "   Monetary  Recency  Frequency\n",
       "0     351.0       52         10\n",
       "1     332.0      109         15\n",
       "2     396.0       54         20\n",
       "3    1748.0      306         13\n",
       "4     924.0       59          8"
      ]
     },
     "execution_count": 518,
     "metadata": {},
     "output_type": "execute_result"
    }
   ],
   "source": [
    "clusterdata = rfm_table.iloc[:,1:4]\n",
    "clusterdata.head()"
   ]
  },
  {
   "cell_type": "code",
   "execution_count": 521,
   "id": "d60a80cd",
   "metadata": {},
   "outputs": [],
   "source": [
    "from sklearn.preprocessing import MinMaxScaler\n",
    "min_max_scaler = MinMaxScaler()\n",
    "x_scaled = min_max_scaler.fit_transform(clusterdata)\n",
    "data_scaled2 = pd.DataFrame(x_scaled)"
   ]
  },
  {
   "cell_type": "code",
   "execution_count": 522,
   "id": "6b4ef8f5",
   "metadata": {},
   "outputs": [
    {
     "data": {
      "text/html": [
       "<div>\n",
       "<style scoped>\n",
       "    .dataframe tbody tr th:only-of-type {\n",
       "        vertical-align: middle;\n",
       "    }\n",
       "\n",
       "    .dataframe tbody tr th {\n",
       "        vertical-align: top;\n",
       "    }\n",
       "\n",
       "    .dataframe thead th {\n",
       "        text-align: right;\n",
       "    }\n",
       "</style>\n",
       "<table border=\"1\" class=\"dataframe\">\n",
       "  <thead>\n",
       "    <tr style=\"text-align: right;\">\n",
       "      <th></th>\n",
       "      <th>0</th>\n",
       "      <th>1</th>\n",
       "      <th>2</th>\n",
       "    </tr>\n",
       "  </thead>\n",
       "  <tbody>\n",
       "    <tr>\n",
       "      <th>0</th>\n",
       "      <td>0.004738</td>\n",
       "      <td>0.083916</td>\n",
       "      <td>0.473684</td>\n",
       "    </tr>\n",
       "    <tr>\n",
       "      <th>1</th>\n",
       "      <td>0.004474</td>\n",
       "      <td>0.283217</td>\n",
       "      <td>0.736842</td>\n",
       "    </tr>\n",
       "    <tr>\n",
       "      <th>2</th>\n",
       "      <td>0.005364</td>\n",
       "      <td>0.090909</td>\n",
       "      <td>1.000000</td>\n",
       "    </tr>\n",
       "    <tr>\n",
       "      <th>3</th>\n",
       "      <td>0.024150</td>\n",
       "      <td>0.972028</td>\n",
       "      <td>0.631579</td>\n",
       "    </tr>\n",
       "    <tr>\n",
       "      <th>4</th>\n",
       "      <td>0.012700</td>\n",
       "      <td>0.108392</td>\n",
       "      <td>0.368421</td>\n",
       "    </tr>\n",
       "  </tbody>\n",
       "</table>\n",
       "</div>"
      ],
      "text/plain": [
       "          0         1         2\n",
       "0  0.004738  0.083916  0.473684\n",
       "1  0.004474  0.283217  0.736842\n",
       "2  0.005364  0.090909  1.000000\n",
       "3  0.024150  0.972028  0.631579\n",
       "4  0.012700  0.108392  0.368421"
      ]
     },
     "execution_count": 522,
     "metadata": {},
     "output_type": "execute_result"
    }
   ],
   "source": [
    "data_scaled2.head()"
   ]
  },
  {
   "cell_type": "code",
   "execution_count": 523,
   "id": "9b3b6a71",
   "metadata": {},
   "outputs": [
    {
     "data": {
      "text/html": [
       "<div>\n",
       "<style scoped>\n",
       "    .dataframe tbody tr th:only-of-type {\n",
       "        vertical-align: middle;\n",
       "    }\n",
       "\n",
       "    .dataframe tbody tr th {\n",
       "        vertical-align: top;\n",
       "    }\n",
       "\n",
       "    .dataframe thead th {\n",
       "        text-align: right;\n",
       "    }\n",
       "</style>\n",
       "<table border=\"1\" class=\"dataframe\">\n",
       "  <thead>\n",
       "    <tr style=\"text-align: right;\">\n",
       "      <th></th>\n",
       "      <th>0</th>\n",
       "      <th>1</th>\n",
       "      <th>2</th>\n",
       "    </tr>\n",
       "  </thead>\n",
       "  <tbody>\n",
       "    <tr>\n",
       "      <th>count</th>\n",
       "      <td>44953.000000</td>\n",
       "      <td>44953.000000</td>\n",
       "      <td>44953.000000</td>\n",
       "    </tr>\n",
       "    <tr>\n",
       "      <th>mean</th>\n",
       "      <td>0.080085</td>\n",
       "      <td>0.501407</td>\n",
       "      <td>0.499449</td>\n",
       "    </tr>\n",
       "    <tr>\n",
       "      <th>std</th>\n",
       "      <td>0.135555</td>\n",
       "      <td>0.289480</td>\n",
       "      <td>0.303689</td>\n",
       "    </tr>\n",
       "    <tr>\n",
       "      <th>min</th>\n",
       "      <td>0.000000</td>\n",
       "      <td>0.000000</td>\n",
       "      <td>0.000000</td>\n",
       "    </tr>\n",
       "    <tr>\n",
       "      <th>25%</th>\n",
       "      <td>0.010908</td>\n",
       "      <td>0.251748</td>\n",
       "      <td>0.210526</td>\n",
       "    </tr>\n",
       "    <tr>\n",
       "      <th>50%</th>\n",
       "      <td>0.028375</td>\n",
       "      <td>0.500000</td>\n",
       "      <td>0.473684</td>\n",
       "    </tr>\n",
       "    <tr>\n",
       "      <th>75%</th>\n",
       "      <td>0.079482</td>\n",
       "      <td>0.751748</td>\n",
       "      <td>0.736842</td>\n",
       "    </tr>\n",
       "    <tr>\n",
       "      <th>max</th>\n",
       "      <td>1.000000</td>\n",
       "      <td>1.000000</td>\n",
       "      <td>1.000000</td>\n",
       "    </tr>\n",
       "  </tbody>\n",
       "</table>\n",
       "</div>"
      ],
      "text/plain": [
       "                  0             1             2\n",
       "count  44953.000000  44953.000000  44953.000000\n",
       "mean       0.080085      0.501407      0.499449\n",
       "std        0.135555      0.289480      0.303689\n",
       "min        0.000000      0.000000      0.000000\n",
       "25%        0.010908      0.251748      0.210526\n",
       "50%        0.028375      0.500000      0.473684\n",
       "75%        0.079482      0.751748      0.736842\n",
       "max        1.000000      1.000000      1.000000"
      ]
     },
     "execution_count": 523,
     "metadata": {},
     "output_type": "execute_result"
    }
   ],
   "source": [
    "data_scaled2.describe()"
   ]
  },
  {
   "cell_type": "code",
   "execution_count": 524,
   "id": "9f49f78a",
   "metadata": {},
   "outputs": [],
   "source": [
    "?KMeans"
   ]
  },
  {
   "cell_type": "code",
   "execution_count": 538,
   "id": "6cfeacf2",
   "metadata": {},
   "outputs": [
    {
     "data": {
      "image/png": "[encoded data removed]",
      "text/plain": [
       "<Figure size 800x600 with 1 Axes>"
      ]
     },
     "metadata": {},
     "output_type": "display_data"
    }
   ],
   "source": [
    "plt.figure(figsize=(8,6))\n",
    "wcss = []\n",
    "for i in range(1,50):\n",
    "    kmeans = KMeans(n_clusters = i, init = 'k-means++', n_init=10, max_iter= 300)\n",
    "    kmeans.fit(data_scaled2)\n",
    "    wcss.append(kmeans.inertia_)\n",
    "plt.plot(range(1,50), wcss)\n",
    "plt.title('The Elbow Method')\n",
    "plt.xlabel('Number of Cluster')\n",
    "plt.ylabel('WCSS')\n",
    "plt.show()"
   ]
  },
  {
   "cell_type": "code",
   "execution_count": 539,
   "id": "96910779",
   "metadata": {},
   "outputs": [],
   "source": [
    "#K-Means using 20 clusters and k-means++ init\n",
    "kmeans = KMeans(n_clusters=10, init='k-means++', n_init=10, max_iter=300)\n",
    "kmeans.fit(data_scaled2)\n",
    "pred = kmeans.predict(data_scaled2)"
   ]
  },
  {
   "cell_type": "code",
   "execution_count": 540,
   "id": "fbee016b",
   "metadata": {},
   "outputs": [],
   "source": [
    "pred = kmeans.predict(data_scaled2)"
   ]
  },
  {
   "cell_type": "code",
   "execution_count": 544,
   "id": "4babeb2c",
   "metadata": {},
   "outputs": [
    {
     "data": {
      "text/plain": [
       "cluster\n",
       "3    5110\n",
       "5    5108\n",
       "7    5027\n",
       "1    4983\n",
       "2    4957\n",
       "0    4943\n",
       "8    4485\n",
       "9    4405\n",
       "4    4359\n",
       "6    1576\n",
       "Name: count, dtype: int64"
      ]
     },
     "execution_count": 544,
     "metadata": {},
     "output_type": "execute_result"
    }
   ],
   "source": [
    "#clusterdata = rfm_table.iloc[:,1:4]\n",
    "d_frame = pd.DataFrame(rfm_table)\n",
    "d_frame['cluster'] = pred\n",
    "d_frame['cluster'].value_counts()"
   ]
  },
  {
   "cell_type": "code",
   "execution_count": 554,
   "id": "c67f01ab",
   "metadata": {},
   "outputs": [
    {
     "data": {
      "text/html": [
       "<div>\n",
       "<style scoped>\n",
       "    .dataframe tbody tr th:only-of-type {\n",
       "        vertical-align: middle;\n",
       "    }\n",
       "\n",
       "    .dataframe tbody tr th {\n",
       "        vertical-align: top;\n",
       "    }\n",
       "\n",
       "    .dataframe thead th {\n",
       "        text-align: right;\n",
       "    }\n",
       "</style>\n",
       "<table border=\"1\" class=\"dataframe\">\n",
       "  <thead>\n",
       "    <tr style=\"text-align: right;\">\n",
       "      <th></th>\n",
       "      <th>Musteri_ID</th>\n",
       "      <th>Monetary</th>\n",
       "      <th>Recency</th>\n",
       "      <th>Frequency</th>\n",
       "      <th>cluster</th>\n",
       "    </tr>\n",
       "  </thead>\n",
       "  <tbody>\n",
       "    <tr>\n",
       "      <th>0</th>\n",
       "      <td>752858.0</td>\n",
       "      <td>351.0</td>\n",
       "      <td>52</td>\n",
       "      <td>10</td>\n",
       "      <td>3</td>\n",
       "    </tr>\n",
       "    <tr>\n",
       "      <th>2</th>\n",
       "      <td>305449.0</td>\n",
       "      <td>396.0</td>\n",
       "      <td>54</td>\n",
       "      <td>20</td>\n",
       "      <td>0</td>\n",
       "    </tr>\n",
       "    <tr>\n",
       "      <th>3</th>\n",
       "      <td>988259.0</td>\n",
       "      <td>1748.0</td>\n",
       "      <td>306</td>\n",
       "      <td>13</td>\n",
       "      <td>7</td>\n",
       "    </tr>\n",
       "    <tr>\n",
       "      <th>4</th>\n",
       "      <td>764762.0</td>\n",
       "      <td>924.0</td>\n",
       "      <td>59</td>\n",
       "      <td>8</td>\n",
       "      <td>3</td>\n",
       "    </tr>\n",
       "    <tr>\n",
       "      <th>5</th>\n",
       "      <td>576539.0</td>\n",
       "      <td>3549.0</td>\n",
       "      <td>129</td>\n",
       "      <td>6</td>\n",
       "      <td>1</td>\n",
       "    </tr>\n",
       "  </tbody>\n",
       "</table>\n",
       "</div>"
      ],
      "text/plain": [
       "   Musteri_ID  Monetary  Recency  Frequency  cluster\n",
       "0    752858.0     351.0       52         10        3\n",
       "2    305449.0     396.0       54         20        0\n",
       "3    988259.0    1748.0      306         13        7\n",
       "4    764762.0     924.0       59          8        3\n",
       "5    576539.0    3549.0      129          6        1"
      ]
     },
     "execution_count": 554,
     "metadata": {},
     "output_type": "execute_result"
    }
   ],
   "source": [
    "# İki DataFrame'deki Musteri_ID sütunlarını yer değiştirme\n",
    "d_frame['Musteri_ID'], df['Musteri_ID'] = df['Musteri_ID'].copy(), d_frame['Musteri_ID'].copy()\n",
    "d_frame.dropna(subset=['Musteri_ID'], inplace=True)\n",
    "\n",
    "d_frame.head()"
   ]
  },
  {
   "cell_type": "code",
   "execution_count": 556,
   "id": "204164d1",
   "metadata": {},
   "outputs": [
    {
     "data": {
      "text/html": [
       "<div>\n",
       "<style scoped>\n",
       "    .dataframe tbody tr th:only-of-type {\n",
       "        vertical-align: middle;\n",
       "    }\n",
       "\n",
       "    .dataframe tbody tr th {\n",
       "        vertical-align: top;\n",
       "    }\n",
       "\n",
       "    .dataframe thead th {\n",
       "        text-align: right;\n",
       "    }\n",
       "</style>\n",
       "<table border=\"1\" class=\"dataframe\">\n",
       "  <thead>\n",
       "    <tr style=\"text-align: right;\">\n",
       "      <th></th>\n",
       "      <th>Musteri_ID</th>\n",
       "      <th>Monetary</th>\n",
       "      <th>Recency</th>\n",
       "      <th>Frequency</th>\n",
       "    </tr>\n",
       "    <tr>\n",
       "      <th>cluster</th>\n",
       "      <th></th>\n",
       "      <th></th>\n",
       "      <th></th>\n",
       "      <th></th>\n",
       "    </tr>\n",
       "  </thead>\n",
       "  <tbody>\n",
       "    <tr>\n",
       "      <th>0</th>\n",
       "      <td>503453.608922</td>\n",
       "      <td>4784.942482</td>\n",
       "      <td>74.365489</td>\n",
       "      <td>16.984149</td>\n",
       "    </tr>\n",
       "    <tr>\n",
       "      <th>1</th>\n",
       "      <td>493838.057641</td>\n",
       "      <td>4177.044013</td>\n",
       "      <td>171.835791</td>\n",
       "      <td>4.066354</td>\n",
       "    </tr>\n",
       "    <tr>\n",
       "      <th>2</th>\n",
       "      <td>498575.115523</td>\n",
       "      <td>3654.070435</td>\n",
       "      <td>172.017497</td>\n",
       "      <td>11.270301</td>\n",
       "    </tr>\n",
       "    <tr>\n",
       "      <th>3</th>\n",
       "      <td>498341.673629</td>\n",
       "      <td>4241.935161</td>\n",
       "      <td>76.486728</td>\n",
       "      <td>9.917537</td>\n",
       "    </tr>\n",
       "    <tr>\n",
       "      <th>4</th>\n",
       "      <td>501857.677370</td>\n",
       "      <td>4167.542304</td>\n",
       "      <td>169.215087</td>\n",
       "      <td>17.607543</td>\n",
       "    </tr>\n",
       "    <tr>\n",
       "      <th>5</th>\n",
       "      <td>503673.635271</td>\n",
       "      <td>4636.664991</td>\n",
       "      <td>266.026442</td>\n",
       "      <td>17.029283</td>\n",
       "    </tr>\n",
       "    <tr>\n",
       "      <th>6</th>\n",
       "      <td>497440.985816</td>\n",
       "      <td>43929.717730</td>\n",
       "      <td>172.726241</td>\n",
       "      <td>10.634043</td>\n",
       "    </tr>\n",
       "    <tr>\n",
       "      <th>7</th>\n",
       "      <td>508020.093522</td>\n",
       "      <td>4278.479991</td>\n",
       "      <td>268.383816</td>\n",
       "      <td>9.910458</td>\n",
       "    </tr>\n",
       "    <tr>\n",
       "      <th>8</th>\n",
       "      <td>495714.147095</td>\n",
       "      <td>4870.810878</td>\n",
       "      <td>76.253152</td>\n",
       "      <td>3.442274</td>\n",
       "    </tr>\n",
       "    <tr>\n",
       "      <th>9</th>\n",
       "      <td>501540.791425</td>\n",
       "      <td>4768.277680</td>\n",
       "      <td>267.264817</td>\n",
       "      <td>3.436318</td>\n",
       "    </tr>\n",
       "  </tbody>\n",
       "</table>\n",
       "</div>"
      ],
      "text/plain": [
       "            Musteri_ID      Monetary     Recency  Frequency\n",
       "cluster                                                    \n",
       "0        503453.608922   4784.942482   74.365489  16.984149\n",
       "1        493838.057641   4177.044013  171.835791   4.066354\n",
       "2        498575.115523   3654.070435  172.017497  11.270301\n",
       "3        498341.673629   4241.935161   76.486728   9.917537\n",
       "4        501857.677370   4167.542304  169.215087  17.607543\n",
       "5        503673.635271   4636.664991  266.026442  17.029283\n",
       "6        497440.985816  43929.717730  172.726241  10.634043\n",
       "7        508020.093522   4278.479991  268.383816   9.910458\n",
       "8        495714.147095   4870.810878   76.253152   3.442274\n",
       "9        501540.791425   4768.277680  267.264817   3.436318"
      ]
     },
     "execution_count": 556,
     "metadata": {},
     "output_type": "execute_result"
    }
   ],
   "source": [
    "d_frame.groupby('cluster').mean()"
   ]
  },
  {
   "cell_type": "code",
   "execution_count": null,
   "id": "1d2fbda2",
   "metadata": {},
   "outputs": [],
   "source": []
  }
 ],
 "metadata": {
  "kernelspec": {
   "display_name": "Python 3 (ipykernel)",
   "language": "python",
   "name": "python3"
  },
  "language_info": {
   "codemirror_mode": {
    "name": "ipython",
    "version": 3
   },
   "file_extension": ".py",
   "mimetype": "text/x-python",
   "name": "python",
   "nbconvert_exporter": "python",
   "pygments_lexer": "ipython3",
   "version": "3.11.5"
  }
 },
 "nbformat": 4,
 "nbformat_minor": 5
}
