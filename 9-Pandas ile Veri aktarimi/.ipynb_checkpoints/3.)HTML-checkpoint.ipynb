{
 "cells": [
  {
   "cell_type": "markdown",
   "metadata": {},
   "source": [
    "# HTML"
   ]
  },
  {
   "cell_type": "markdown",
   "metadata": {},
   "source": [
    "Bu bölüm sizler için çok faydalı . Hiçbir web bilgisi olmadan istediğiniz siteden tabloları çekmeniz gösterilecek."
   ]
  },
  {
   "cell_type": "code",
   "execution_count": 1,
   "metadata": {
    "tags": []
   },
   "outputs": [],
   "source": [
    "import pandas as pd"
   ]
  },
  {
   "cell_type": "code",
   "execution_count": 2,
   "metadata": {
    "tags": []
   },
   "outputs": [],
   "source": [
    "url = 'http://webders.net/291/ulkeler-ve-baskentleri-listesi.html'"
   ]
  },
  {
   "cell_type": "code",
   "execution_count": 3,
   "metadata": {
    "tags": []
   },
   "outputs": [],
   "source": [
    "veri = pd.read_html(url,index_col=0,header=0)"
   ]
  },
  {
   "cell_type": "code",
   "execution_count": 4,
   "metadata": {
    "tags": []
   },
   "outputs": [
    {
     "data": {
      "text/plain": [
       "[                                    Ülke\n",
       " BaÅŸkent                                \n",
       " Abidjan                  FildiÅŸi Sahili\n",
       " Abu Dabi      BirleÅŸik Arap Emirlikleri\n",
       " Abuja                            Nijerya\n",
       " Accra                               Gana\n",
       " Adamstown              Pitcairn AdalarÄ±\n",
       " ...                                  ...\n",
       " Yamoussoukro             FildiÅŸi Sahili\n",
       " Yaoundé                          Kamerun\n",
       " Yeni Delhi                     Hindistan\n",
       " Yaren                              Nauru\n",
       " Zagreb                      HÄ±rvatistan\n",
       " \n",
       " [232 rows x 1 columns]]"
      ]
     },
     "execution_count": 4,
     "metadata": {},
     "output_type": "execute_result"
    }
   ],
   "source": [
    "veri"
   ]
  },
  {
   "cell_type": "code",
   "execution_count": 5,
   "metadata": {
    "tags": []
   },
   "outputs": [],
   "source": [
    "veri = veri[0] #verileri düzenli görelim"
   ]
  },
  {
   "cell_type": "code",
   "execution_count": 6,
   "metadata": {
    "tags": []
   },
   "outputs": [
    {
     "data": {
      "text/html": [
       "<div>\n",
       "<style scoped>\n",
       "    .dataframe tbody tr th:only-of-type {\n",
       "        vertical-align: middle;\n",
       "    }\n",
       "\n",
       "    .dataframe tbody tr th {\n",
       "        vertical-align: top;\n",
       "    }\n",
       "\n",
       "    .dataframe thead th {\n",
       "        text-align: right;\n",
       "    }\n",
       "</style>\n",
       "<table border=\"1\" class=\"dataframe\">\n",
       "  <thead>\n",
       "    <tr style=\"text-align: right;\">\n",
       "      <th></th>\n",
       "      <th>Ülke</th>\n",
       "    </tr>\n",
       "    <tr>\n",
       "      <th>BaÅŸkent</th>\n",
       "      <th></th>\n",
       "    </tr>\n",
       "  </thead>\n",
       "  <tbody>\n",
       "    <tr>\n",
       "      <th>Abidjan</th>\n",
       "      <td>FildiÅŸi Sahili</td>\n",
       "    </tr>\n",
       "    <tr>\n",
       "      <th>Abu Dabi</th>\n",
       "      <td>BirleÅŸik Arap Emirlikleri</td>\n",
       "    </tr>\n",
       "    <tr>\n",
       "      <th>Abuja</th>\n",
       "      <td>Nijerya</td>\n",
       "    </tr>\n",
       "    <tr>\n",
       "      <th>Accra</th>\n",
       "      <td>Gana</td>\n",
       "    </tr>\n",
       "    <tr>\n",
       "      <th>Adamstown</th>\n",
       "      <td>Pitcairn AdalarÄ±</td>\n",
       "    </tr>\n",
       "    <tr>\n",
       "      <th>...</th>\n",
       "      <td>...</td>\n",
       "    </tr>\n",
       "    <tr>\n",
       "      <th>Yamoussoukro</th>\n",
       "      <td>FildiÅŸi Sahili</td>\n",
       "    </tr>\n",
       "    <tr>\n",
       "      <th>Yaoundé</th>\n",
       "      <td>Kamerun</td>\n",
       "    </tr>\n",
       "    <tr>\n",
       "      <th>Yeni Delhi</th>\n",
       "      <td>Hindistan</td>\n",
       "    </tr>\n",
       "    <tr>\n",
       "      <th>Yaren</th>\n",
       "      <td>Nauru</td>\n",
       "    </tr>\n",
       "    <tr>\n",
       "      <th>Zagreb</th>\n",
       "      <td>HÄ±rvatistan</td>\n",
       "    </tr>\n",
       "  </tbody>\n",
       "</table>\n",
       "<p>232 rows × 1 columns</p>\n",
       "</div>"
      ],
      "text/plain": [
       "                                    Ülke\n",
       "BaÅŸkent                                \n",
       "Abidjan                  FildiÅŸi Sahili\n",
       "Abu Dabi      BirleÅŸik Arap Emirlikleri\n",
       "Abuja                            Nijerya\n",
       "Accra                               Gana\n",
       "Adamstown              Pitcairn AdalarÄ±\n",
       "...                                  ...\n",
       "Yamoussoukro             FildiÅŸi Sahili\n",
       "Yaoundé                          Kamerun\n",
       "Yeni Delhi                     Hindistan\n",
       "Yaren                              Nauru\n",
       "Zagreb                      HÄ±rvatistan\n",
       "\n",
       "[232 rows x 1 columns]"
      ]
     },
     "execution_count": 6,
     "metadata": {},
     "output_type": "execute_result"
    }
   ],
   "source": [
    "veri"
   ]
  },
  {
   "cell_type": "markdown",
   "metadata": {},
   "source": [
    "### Dışa aktarmak"
   ]
  },
  {
   "cell_type": "code",
   "execution_count": 7,
   "metadata": {
    "tags": []
   },
   "outputs": [],
   "source": [
    "veri.to_excel('countryorg.xlsx',sheet_name='Sayfa1')"
   ]
  },
  {
   "cell_type": "code",
   "execution_count": null,
   "metadata": {},
   "outputs": [],
   "source": []
  }
 ],
 "metadata": {
  "kernelspec": {
   "display_name": "Python 3 (ipykernel)",
   "language": "python",
   "name": "python3"
  },
  "language_info": {
   "codemirror_mode": {
    "name": "ipython",
    "version": 3
   },
   "file_extension": ".py",
   "mimetype": "text/x-python",
   "name": "python",
   "nbconvert_exporter": "python",
   "pygments_lexer": "ipython3",
   "version": "3.11.5"
  }
 },
 "nbformat": 4,
 "nbformat_minor": 4
}
