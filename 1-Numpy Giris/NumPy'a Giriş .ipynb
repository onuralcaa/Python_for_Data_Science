{
 "cells": [
  {
   "cell_type": "markdown",
   "metadata": {},
   "source": [
    "# NumPy \"Numerical Python\""
   ]
  },
  {
   "cell_type": "markdown",
   "metadata": {},
   "source": [
    "NumPy, Python’ da **bilimsel hesaplamalarda** sık kullanılan temel pakettir.\n",
    "\n",
    "NumPy ın bize sunduğu veri yapısıyla çok hızlı ve kullanışlı bir şekilde : temel lineer cebir, temel istatistik işlemlere ve  çok daha fazlasını sunarak işlerimizi matematiksel anlamda kolaylaştırıyor.\n"
   ]
  },
  {
   "cell_type": "markdown",
   "metadata": {},
   "source": [
    "pip install numpy ile kurabilirsiniz. Anaconda spyder kullanıyorsanız yüklü gelecektir.\n"
   ]
  },
  {
   "cell_type": "code",
   "execution_count": 4,
   "metadata": {
    "tags": []
   },
   "outputs": [],
   "source": [
    "import numpy as np"
   ]
  },
  {
   "cell_type": "code",
   "execution_count": 5,
   "metadata": {
    "tags": []
   },
   "outputs": [],
   "source": [
    "array=np.array([1,2,3,4])"
   ]
  },
  {
   "cell_type": "code",
   "execution_count": 6,
   "metadata": {
    "tags": []
   },
   "outputs": [
    {
     "data": {
      "text/plain": [
       "1"
      ]
     },
     "execution_count": 6,
     "metadata": {},
     "output_type": "execute_result"
    }
   ],
   "source": [
    "array[0]"
   ]
  },
  {
   "cell_type": "code",
   "execution_count": 7,
   "metadata": {
    "tags": []
   },
   "outputs": [
    {
     "data": {
      "text/plain": [
       "2"
      ]
     },
     "execution_count": 7,
     "metadata": {},
     "output_type": "execute_result"
    }
   ],
   "source": [
    "array[1]"
   ]
  },
  {
   "cell_type": "code",
   "execution_count": 8,
   "metadata": {
    "tags": []
   },
   "outputs": [
    {
     "data": {
      "text/plain": [
       "3"
      ]
     },
     "execution_count": 8,
     "metadata": {},
     "output_type": "execute_result"
    }
   ],
   "source": [
    "array[2]"
   ]
  },
  {
   "cell_type": "code",
   "execution_count": 9,
   "metadata": {
    "tags": []
   },
   "outputs": [
    {
     "data": {
      "text/plain": [
       "4"
      ]
     },
     "execution_count": 9,
     "metadata": {},
     "output_type": "execute_result"
    }
   ],
   "source": [
    "array[3]"
   ]
  },
  {
   "cell_type": "markdown",
   "metadata": {},
   "source": [
    "## Bir python listesi üzerinden NumPy dizisinin 3 ana avantajı"
   ]
  },
  {
   "cell_type": "markdown",
   "metadata": {},
   "source": [
    "**1-)Daha az bellek kaplıyor**\n",
    "\n",
    "**2-)Hızlı**\n",
    "\n",
    "**3-)Kullanışlı **"
   ]
  },
  {
   "cell_type": "code",
   "execution_count": 10,
   "metadata": {
    "tags": []
   },
   "outputs": [],
   "source": [
    "import time\n",
    "from sys import getsizeof as size"
   ]
  },
  {
   "cell_type": "markdown",
   "metadata": {},
   "source": [
    "# Daha az bellek kaplıyor\n",
    "\n"
   ]
  },
  {
   "cell_type": "code",
   "execution_count": 11,
   "metadata": {
    "tags": []
   },
   "outputs": [
    {
     "name": "stdout",
     "output_type": "stream",
     "text": [
      "Elementler dahil toplam liste boyutu::  28048\n"
     ]
    }
   ],
   "source": [
    "lst = range(1000)\n",
    "\n",
    "liste_nesnesinin_boyutu = size(lst) \n",
    "\n",
    "elemanların_boyutu = len(lst) * size(lst[0])\n",
    "# biz burada element boyutları aynı kabul ettik \n",
    "#Tabii ki, bu genel olarak geçerli değildir, \n",
    "#çünkü daha büyük tamsayılar için bellek tüketimi daha yüksek olacaktır.\n",
    "\n",
    "toplam_liste_boyutu = liste_nesnesinin_boyutu + elemanların_boyutu\n",
    "print(\"Elementler dahil toplam liste boyutu:: \", toplam_liste_boyutu)"
   ]
  },
  {
   "cell_type": "code",
   "execution_count": 12,
   "metadata": {
    "tags": []
   },
   "outputs": [
    {
     "name": "stdout",
     "output_type": "stream",
     "text": [
      "Elementler dahil toplam liste boyutu::  8112\n"
     ]
    }
   ],
   "source": [
    "array= np.arange(1000)\n",
    "liste_nesnesinin_boyutu = size(array)\n",
    "\n",
    "elemanların_boyutu = array.size * array.itemsize\n",
    "# biz burada element boyutları aynı kabul ettik \n",
    "#Tabii ki, bu genel olarak geçerli değildir, \n",
    "#çünkü daha büyük tamsayılar için bellek tüketimi daha yüksek olacaktır.\n",
    "\n",
    "toplam_liste_boyutu = liste_nesnesinin_boyutu + elemanların_boyutu\n",
    "print(\"Elementler dahil toplam liste boyutu:: \", toplam_liste_boyutu)"
   ]
  },
  {
   "cell_type": "markdown",
   "metadata": {},
   "source": [
    "# Hızlı ve Kullanışlı"
   ]
  },
  {
   "cell_type": "code",
   "execution_count": 13,
   "metadata": {
    "tags": []
   },
   "outputs": [
    {
     "name": "stdout",
     "output_type": "stream",
     "text": [
      "saf_python_version : 0.05212712287902832\n",
      "numpy_version :  0.0\n"
     ]
    }
   ],
   "source": [
    "import time\n",
    "vektörün_boyutu = 100000\n",
    "def saf_python_version():\n",
    "    t1 = time.time()\n",
    "    X = range(vektörün_boyutu)\n",
    "    Y = range(vektörün_boyutu)\n",
    "    Z = [X[i] + Y[i] for i in range(len(X)) ]\n",
    "    return time.time() - t1\n",
    "def numpy_version():\n",
    "    t1 = time.time()\n",
    "    X = np.arange(vektörün_boyutu)\n",
    "    Y = np.arange(vektörün_boyutu)\n",
    "    Z = X + Y #kullanışlı\n",
    "    return time.time() - t1\n",
    "print('saf_python_version :',saf_python_version())\n",
    "print('numpy_version : ',numpy_version())"
   ]
  }
 ],
 "metadata": {
  "kernelspec": {
   "display_name": "Python 3 (ipykernel)",
   "language": "python",
   "name": "python3"
  },
  "language_info": {
   "codemirror_mode": {
    "name": "ipython",
    "version": 3
   },
   "file_extension": ".py",
   "mimetype": "text/x-python",
   "name": "python",
   "nbconvert_exporter": "python",
   "pygments_lexer": "ipython3",
   "version": "3.11.5"
  }
 },
 "nbformat": 4,
 "nbformat_minor": 4
}
