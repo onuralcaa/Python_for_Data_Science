{
 "cells": [
  {
   "cell_type": "markdown",
   "metadata": {},
   "source": [
    "# Pandas ile Veri Manipülasyonu"
   ]
  },
  {
   "cell_type": "markdown",
   "metadata": {},
   "source": [
    "Bir önceki bölümde ,NumPy'ın ndarray veri yapısını ve sayısal hesaplama görevlerinde iyi organize edilmiş, önemli özellikler sunduğunu görmüştük.Burada, Pandas kütüphanesi (NumPy dizi yapısına dayanır ) tarafından sağlanan veri yapılarına bakarak bu bilgiler üzerine inşa edeceğiz. \n",
    "\n",
    "** Pandas, NumPy'nin üzerine kurulu daha yeni bir pakettir **\n",
    "\n",
    "\n",
    "Pandas özellikle bir veri bilimcisinin  zamanının çoğunu işgal eden **\"veri toplama\"** görevlerine ** verimli erişim sağlar**.\n"
   ]
  },
  {
   "cell_type": "markdown",
   "metadata": {},
   "source": [
    "----------------------------------\n",
    "\n",
    "\n",
    "#### Pandas Nesneleri ? \n",
    "\n",
    "Pandas nesneleri, satır ve sütunların basit tamsayı indeksleri yerine etiketlerle tanımlandığı NumPy dizilerinin geliştirilmiş sürümleri olarak düşünülebilir.\n",
    "\n",
    "NumPy'yı genelde np takma adı altında aldığımız gibi, Pandas'ı ise genelde **pd** diye adlandırıyoruz."
   ]
  },
  {
   "cell_type": "code",
   "execution_count": 1,
   "metadata": {},
   "outputs": [],
   "source": [
    "import pandas as pd"
   ]
  },
  {
   "cell_type": "markdown",
   "metadata": {},
   "source": [
    "## Kurulum\n",
    "\n",
    "** pip install pandas **"
   ]
  },
  {
   "cell_type": "markdown",
   "metadata": {},
   "source": [
    "Daha ayrıntılı belgeler için http://pandas.pydata.org adresini ziyaret edebilirsiniz."
   ]
  }
 ],
 "metadata": {
  "kernelspec": {
   "display_name": "Python 3",
   "language": "python",
   "name": "python3"
  },
  "language_info": {
   "codemirror_mode": {
    "name": "ipython",
    "version": 3
   },
   "file_extension": ".py",
   "mimetype": "text/x-python",
   "name": "python",
   "nbconvert_exporter": "python",
   "pygments_lexer": "ipython3",
   "version": "3.6.5"
  }
 },
 "nbformat": 4,
 "nbformat_minor": 2
}
