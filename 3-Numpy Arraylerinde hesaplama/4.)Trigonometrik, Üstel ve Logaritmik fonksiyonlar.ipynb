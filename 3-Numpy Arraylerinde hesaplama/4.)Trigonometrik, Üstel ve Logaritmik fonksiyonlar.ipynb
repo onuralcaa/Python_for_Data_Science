{
 "cells": [
  {
   "cell_type": "markdown",
   "metadata": {},
   "source": [
    "# Trigonometrik, Üstel ve Logaritmik fonksiyonlar\n",
    "\n",
    "# Trigonometrik fonksiyonlar"
   ]
  },
  {
   "cell_type": "markdown",
   "metadata": {},
   "source": [
    "NumPy çok sayıda yararlı fonksiyonlar sağlar ve veri bilimcisi için en yararlı olanlardan bazıları trigonometrik fonksiyonlardır. \n",
    "\n",
    "Bir dizi açı tanımlayarak başlayacağız:"
   ]
  },
  {
   "cell_type": "code",
   "execution_count": 1,
   "metadata": {},
   "outputs": [],
   "source": [
    "import numpy as np"
   ]
  },
  {
   "cell_type": "code",
   "execution_count": 2,
   "metadata": {},
   "outputs": [],
   "source": [
    "theta=30 # bir açı tanımladık"
   ]
  },
  {
   "cell_type": "code",
   "execution_count": 3,
   "metadata": {},
   "outputs": [
    {
     "data": {
      "text/plain": [
       "30"
      ]
     },
     "execution_count": 3,
     "metadata": {},
     "output_type": "execute_result"
    }
   ],
   "source": [
    "theta"
   ]
  },
  {
   "cell_type": "markdown",
   "metadata": {},
   "source": [
    "Konuya başlamadan theta elemanın (30 derecenin )kosinüs, sinüs ,tanjant ve kotanjant değerlerine göz atalım :\n",
    "\n",
    "------------------------------------------------------------  \n",
    "|kosinüs      |sinüs         |tanjant       |kotanjant     |\n",
    "|-------------|--------------|--------------|--------------|\n",
    "|0.15425144988|-0.98803162409|-6.40533119665|-0.15611995216|\n",
    "------------------------------------------------------------\n",
    "\n",
    "    "
   ]
  },
  {
   "cell_type": "code",
   "execution_count": 4,
   "metadata": {},
   "outputs": [
    {
     "name": "stdout",
     "output_type": "stream",
     "text": [
      "theta      =  30\n",
      "cos(theta) =  0.15425144988758405\n",
      "sin(theta) =  -0.9880316240928618\n",
      "tan(theta) =  -6.405331196646276\n",
      "cot(theta) =  -0.15611995216165922\n"
     ]
    }
   ],
   "source": [
    "print(\"theta      = \", theta)\n",
    "print(\"cos(theta) = \", np.cos(theta))\n",
    "print(\"sin(theta) = \", np.sin(theta))\n",
    "print(\"tan(theta) = \", np.tan(theta))\n",
    "print(\"cot(theta) = \", 1/np.tan(theta))"
   ]
  },
  {
   "cell_type": "markdown",
   "metadata": {},
   "source": [
    "# Üstel ve Logaritmik Fonksiyonlar"
   ]
  },
  {
   "cell_type": "markdown",
   "metadata": {},
   "source": [
    "## Üsteller Fonksiyonlar"
   ]
  },
  {
   "cell_type": "markdown",
   "metadata": {},
   "source": [
    "Bilmemiz gereken fonksiyonlar:\n",
    "\n",
    "    1)np.exp(üs) : fonksiyon kendisi taban olarak e seçiyor.\n",
    "    \n",
    "    2)np.exp2(üs) : fonksiyon kendisi taban olarak 2 seçiyor.\n",
    "    \n",
    "    3)np.power(taban,üs) : fonksiyon tabanı bize bırakıyor. "
   ]
  },
  {
   "cell_type": "code",
   "execution_count": 5,
   "metadata": {},
   "outputs": [],
   "source": [
    "dizi=[1,2,3,4]"
   ]
  },
  {
   "cell_type": "code",
   "execution_count": 6,
   "metadata": {},
   "outputs": [],
   "source": [
    "x=np.array(dizi)"
   ]
  },
  {
   "cell_type": "code",
   "execution_count": 7,
   "metadata": {},
   "outputs": [
    {
     "data": {
      "text/plain": [
       "array([1, 2, 3, 4])"
      ]
     },
     "execution_count": 7,
     "metadata": {},
     "output_type": "execute_result"
    }
   ],
   "source": [
    "x"
   ]
  },
  {
   "cell_type": "markdown",
   "metadata": {},
   "source": [
    "#### e'nin üssü"
   ]
  },
  {
   "cell_type": "markdown",
   "metadata": {},
   "source": [
    "e değeri yaklaşık olarak 2.718281828459045"
   ]
  },
  {
   "cell_type": "code",
   "execution_count": 8,
   "metadata": {},
   "outputs": [
    {
     "data": {
      "text/plain": [
       "2.718281828459045"
      ]
     },
     "execution_count": 8,
     "metadata": {},
     "output_type": "execute_result"
    }
   ],
   "source": [
    "np.exp(1)"
   ]
  },
  {
   "cell_type": "code",
   "execution_count": 9,
   "metadata": {},
   "outputs": [
    {
     "name": "stdout",
     "output_type": "stream",
     "text": [
      "e^x   = [ 2.71828183  7.3890561  20.08553692 54.59815003]\n"
     ]
    }
   ],
   "source": [
    "print(\"e^x   =\", np.exp(x)) # e nin kuvvetleri : e¹ , e² ,.. "
   ]
  },
  {
   "cell_type": "markdown",
   "metadata": {},
   "source": [
    "#### 2'nin üssü"
   ]
  },
  {
   "cell_type": "code",
   "execution_count": 10,
   "metadata": {},
   "outputs": [
    {
     "name": "stdout",
     "output_type": "stream",
     "text": [
      "2^x   = [ 2.  4.  8. 16.]\n"
     ]
    }
   ],
   "source": [
    "print(\"2^x   =\", np.exp2(x)) # 2 nin kuvetteleri olarak x kümesi seçiliyor"
   ]
  },
  {
   "cell_type": "markdown",
   "metadata": {},
   "source": [
    "#### 3'ün üssü"
   ]
  },
  {
   "cell_type": "code",
   "execution_count": 11,
   "metadata": {},
   "outputs": [
    {
     "name": "stdout",
     "output_type": "stream",
     "text": [
      "3^x   = [ 3  9 27 81]\n"
     ]
    }
   ],
   "source": [
    "print(\"3^x   =\", np.power(3, x)) # 3 nin kuvetteleri olarak x kümesi seçiliyor"
   ]
  },
  {
   "cell_type": "markdown",
   "metadata": {},
   "source": [
    "#### 4'ün üssü"
   ]
  },
  {
   "cell_type": "code",
   "execution_count": 12,
   "metadata": {},
   "outputs": [
    {
     "name": "stdout",
     "output_type": "stream",
     "text": [
      "4^x   = [  4  16  64 256]\n"
     ]
    }
   ],
   "source": [
    "print(\"4^x   =\", np.power(4, x)) # 4 nin kuvetteleri olarak x kümesi seçiliyor"
   ]
  },
  {
   "cell_type": "markdown",
   "metadata": {},
   "source": [
    "## Logaritmik Fonksiyonlar"
   ]
  },
  {
   "cell_type": "markdown",
   "metadata": {},
   "source": [
    "## ln"
   ]
  },
  {
   "cell_type": "markdown",
   "metadata": {},
   "source": [
    "log  **e** tabanındaki durumu"
   ]
  },
  {
   "cell_type": "code",
   "execution_count": 13,
   "metadata": {},
   "outputs": [],
   "source": [
    "dizi=[10,100,1000]"
   ]
  },
  {
   "cell_type": "code",
   "execution_count": 14,
   "metadata": {},
   "outputs": [],
   "source": [
    "x=np.array(dizi)"
   ]
  },
  {
   "cell_type": "code",
   "execution_count": 15,
   "metadata": {},
   "outputs": [
    {
     "name": "stdout",
     "output_type": "stream",
     "text": [
      "ln(x)    = [2.30258509 4.60517019 6.90775528]\n"
     ]
    }
   ],
   "source": [
    "print(\"ln(x)    =\", np.log(x))"
   ]
  },
  {
   "cell_type": "markdown",
   "metadata": {},
   "source": [
    "## log"
   ]
  },
  {
   "cell_type": "markdown",
   "metadata": {},
   "source": [
    "### 2 tabanında"
   ]
  },
  {
   "cell_type": "code",
   "execution_count": 16,
   "metadata": {},
   "outputs": [
    {
     "name": "stdout",
     "output_type": "stream",
     "text": [
      "log2(x)  = [3.32192809 6.64385619 9.96578428]\n"
     ]
    }
   ],
   "source": [
    "print(\"log2(x)  =\", np.log2(x))"
   ]
  },
  {
   "cell_type": "markdown",
   "metadata": {},
   "source": [
    "### 10 tabanında"
   ]
  },
  {
   "cell_type": "code",
   "execution_count": 17,
   "metadata": {},
   "outputs": [
    {
     "name": "stdout",
     "output_type": "stream",
     "text": [
      "log10(x) = [1. 2. 3.]\n"
     ]
    }
   ],
   "source": [
    "print(\"log10(x) =\", np.log10(x))"
   ]
  },
  {
   "cell_type": "code",
   "execution_count": null,
   "metadata": {},
   "outputs": [],
   "source": []
  }
 ],
 "metadata": {
  "kernelspec": {
   "display_name": "Python 3 (ipykernel)",
   "language": "python",
   "name": "python3"
  },
  "language_info": {
   "codemirror_mode": {
    "name": "ipython",
    "version": 3
   },
   "file_extension": ".py",
   "mimetype": "text/x-python",
   "name": "python",
   "nbconvert_exporter": "python",
   "pygments_lexer": "ipython3",
   "version": "3.11.5"
  }
 },
 "nbformat": 4,
 "nbformat_minor": 4
}
